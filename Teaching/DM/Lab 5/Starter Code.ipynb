{
  "nbformat": 4,
  "nbformat_minor": 0,
  "metadata": {
    "colab": {
      "provenance": []
    },
    "kernelspec": {
      "name": "python3",
      "display_name": "Python 3"
    },
    "language_info": {
      "name": "python"
    }
  },
  "cells": [
    {
      "cell_type": "code",
      "execution_count": null,
      "metadata": {
        "id": "2Bpad99BVCQZ"
      },
      "outputs": [],
      "source": [
        "pip install ucimlrepo"
      ]
    },
    {
      "cell_type": "code",
      "source": [
        "from ucimlrepo import fetch_ucirepo\n",
        "\n",
        "# fetch dataset\n",
        "heart_disease = fetch_ucirepo(id=45)\n",
        "\n",
        "# data (as pandas dataframes)\n",
        "X = heart_disease.data.features\n",
        "y = heart_disease.data.targets\n",
        "\n",
        "# metadata\n",
        "print(heart_disease.metadata)\n",
        "\n",
        "# variable information\n",
        "print(heart_disease.variables)"
      ],
      "metadata": {
        "id": "K-1oLCESVDBB"
      },
      "execution_count": null,
      "outputs": []
    },
    {
      "cell_type": "code",
      "source": [
        "X"
      ],
      "metadata": {
        "id": "ozxI-uarVUtp"
      },
      "execution_count": null,
      "outputs": []
    },
    {
      "cell_type": "code",
      "source": [
        "y"
      ],
      "metadata": {
        "id": "0WmVxE-VWLmR"
      },
      "execution_count": null,
      "outputs": []
    },
    {
      "cell_type": "code",
      "source": [
        "# Step 2: Characterization\n",
        "print(\"Characterization:\")\n",
        "print(X.describe())"
      ],
      "metadata": {
        "id": "p4JrXQ7QWMIJ"
      },
      "execution_count": null,
      "outputs": []
    },
    {
      "cell_type": "code",
      "source": [
        "X_df = X"
      ],
      "metadata": {
        "id": "cmpZ5g6HXJt7"
      },
      "execution_count": null,
      "outputs": []
    },
    {
      "cell_type": "code",
      "source": [
        "# Add the target variable as a column to the DataFrame\n",
        "X_df['target'] = y"
      ],
      "metadata": {
        "id": "0Xgs_XQfXUh1"
      },
      "execution_count": null,
      "outputs": []
    },
    {
      "cell_type": "code",
      "source": [
        "import pandas as pd\n",
        "import matplotlib.pyplot as plt\n",
        "import seaborn as sns\n",
        "\n",
        "# Anomaly detection\n",
        "# Detecting anomalies using boxplots\n",
        "plt.figure(figsize=(10, 6))\n",
        "sns.boxplot(data=X_df.drop(columns='target'))\n",
        "plt.title('Boxplot for Anomaly Detection')\n",
        "plt.xticks(rotation=45)\n",
        "plt.show()"
      ],
      "metadata": {
        "id": "MzBYiK1-WZTJ"
      },
      "execution_count": null,
      "outputs": []
    },
    {
      "cell_type": "code",
      "source": [
        "# 2. Data Visualization\n",
        "# Histograms\n",
        "X_df.hist(figsize=(12, 10))\n",
        "plt.suptitle('Histograms of Features')\n",
        "plt.show()"
      ],
      "metadata": {
        "id": "aqgV634NXa1O"
      },
      "execution_count": null,
      "outputs": []
    },
    {
      "cell_type": "code",
      "source": [
        "# Scatter plots\n",
        "sns.pairplot(data=X_df, hue='target')\n",
        "plt.title('Pairplot of Features')\n",
        "plt.show()"
      ],
      "metadata": {
        "id": "IwxU1oUtXbxG"
      },
      "execution_count": null,
      "outputs": []
    },
    {
      "cell_type": "code",
      "source": [
        "# Contour plots\n",
        "plt.figure(figsize=(10, 8))\n",
        "for feature in X_df.columns[:-1]:\n",
        "    sns.kdeplot(data=X_df, x=feature, y='target', fill=True, cmap='viridis', alpha=0.5)\n",
        "plt.title('Contour Plots of Features')\n",
        "plt.show()"
      ],
      "metadata": {
        "id": "qZMnPusPXcaM"
      },
      "execution_count": null,
      "outputs": []
    },
    {
      "cell_type": "code",
      "source": [
        "# Matrix plots\n",
        "plt.figure(figsize=(10, 8))\n",
        "sns.heatmap(X_df.corr(), annot=True, cmap='coolwarm', fmt='.2f')\n",
        "plt.title('Correlation Matrix')\n",
        "plt.show()\n"
      ],
      "metadata": {
        "id": "kWIAnJZ0XdGv"
      },
      "execution_count": null,
      "outputs": []
    },
    {
      "cell_type": "code",
      "source": [
        "from sklearn.model_selection import train_test_split"
      ],
      "metadata": {
        "id": "AsVYGETXWSzd"
      },
      "execution_count": null,
      "outputs": []
    },
    {
      "cell_type": "code",
      "source": [
        "# Step 3: Classification\n",
        "# Splitting the data into train and test sets\n",
        "X_train, X_test, y_train, y_test = train_test_split(X, y, test_size=0.2, random_state=42)"
      ],
      "metadata": {
        "id": "F1y08Lb1WW5C"
      },
      "execution_count": null,
      "outputs": []
    },
    {
      "cell_type": "code",
      "source": [
        "import numpy as np"
      ],
      "metadata": {
        "id": "RaZsewBuWq8u"
      },
      "execution_count": null,
      "outputs": []
    },
    {
      "cell_type": "code",
      "source": [
        "class NearestNeighborClassifierManual:\n",
        "    def __init__(self):\n",
        "        self.X_train = None\n",
        "        self.y_train = None\n",
        "\n",
        "    def fit(self, X_train, y_train):\n",
        "        self.X_train = X_train\n",
        "        self.y_train = y_train\n",
        "\n",
        "    def predict(self, X_test):\n",
        "        predictions = []\n",
        "        #To Do\n",
        "        return np.array(predictions)"
      ],
      "metadata": {
        "id": "v1qCZfuNYXke"
      },
      "execution_count": null,
      "outputs": []
    },
    {
      "cell_type": "code",
      "source": [
        "# Import GaussianNaiveBayesClassifierManual\n",
        "class GaussianNaiveBayesClassifierManual:\n",
        "    def __init__(self):\n",
        "        self.class_priors = None\n",
        "        self.class_means = None\n",
        "        self.class_variances = None\n",
        "\n",
        "    def fit(self, X_train, y_train):\n",
        "        self.class_priors = {}\n",
        "        self.class_means = {}\n",
        "        self.class_variances = {}\n",
        "        classes = np.unique(y_train)\n",
        "        #To Do\n",
        "\n",
        "    def predict(self, X_test):\n",
        "        predictions = []\n",
        "        #To Do\n",
        "        return np.array(predictions)\n"
      ],
      "metadata": {
        "id": "Q1HdRt-fZUdO"
      },
      "execution_count": null,
      "outputs": []
    },
    {
      "cell_type": "code",
      "source": [
        "class SupportVectorMachineClassifierManual:\n",
        "    def __init__(self, learning_rate=0.001, epochs=1000):\n",
        "        self.learning_rate = learning_rate\n",
        "        self.epochs = epochs\n",
        "        self.weights = None\n",
        "        self.bias = None\n",
        "\n",
        "    def fit(self, X_train, y_train):\n",
        "        n_samples, n_features = X_train.shape\n",
        "        self.weights = np.zeros(n_features)\n",
        "        self.bias = 0\n",
        "        #To Do\n",
        "\n",
        "    def predict(self, X_test):\n",
        "        #To Do"
      ],
      "metadata": {
        "id": "5Adf-j-EZPR6"
      },
      "execution_count": null,
      "outputs": []
    },
    {
      "cell_type": "code",
      "source": [
        "class ConfusionMatrix:\n",
        "    def __init__(self, y_true, y_pred):\n",
        "        self.y_true = y_true\n",
        "        self.y_pred = y_pred\n",
        "        self.n_classes = len(np.unique(y_true))\n",
        "        self.matrix = self._compute_confusion_matrix()\n",
        "\n",
        "    def _compute_confusion_matrix(self):\n",
        "        matrix = np.zeros((self.n_classes, self.n_classes), dtype=int)\n",
        "        #To Do\n",
        "\n",
        "    def plot(self):\n",
        "        plt.figure(figsize=(8, 6))\n",
        "        sns.heatmap(self.matrix, annot=True, cmap='Blues', fmt='d', xticklabels=np.arange(self.n_classes), yticklabels=np.arange(self.n_classes))\n",
        "        plt.xlabel('Predicted labels')\n",
        "        plt.ylabel('True labels')\n",
        "        plt.title('Confusion Matrix')\n",
        "        plt.show()"
      ],
      "metadata": {
        "id": "uh2GxeyAZL53"
      },
      "execution_count": null,
      "outputs": []
    },
    {
      "cell_type": "code",
      "source": [
        "class EvaluationMetrics:\n",
        "    def __init__(self, y_true, y_pred):\n",
        "        self.y_true = y_true\n",
        "        self.y_pred = y_pred\n",
        "        self.confusion_matrix = ConfusionMatrix(y_true, y_pred)\n",
        "        self.metrics = self._compute_metrics()\n",
        "\n",
        "    def _compute_metrics(self):\n",
        "        tp = np.diag(self.confusion_matrix.matrix)\n",
        "        fp = #To Do\n",
        "        fn = #To Do\n",
        "        tn = #To Do\n",
        "\n",
        "        sensitivity = #To Do\n",
        "        specificity = #To Do\n",
        "        fpr = #To Do\n",
        "        fnr = #To Do\n",
        "        precision = #To Do\n",
        "        recall = #To Do\n",
        "        f1_score = #To Do\n",
        "\n",
        "        return {\n",
        "            'Sensitivity': sensitivity,\n",
        "            'Specificity': specificity,\n",
        "            'FPR': fpr,\n",
        "            'FNR': fnr,\n",
        "            'Precision': precision,\n",
        "            'Recall': recall,\n",
        "            'F1 Score': f1_score\n",
        "        }"
      ],
      "metadata": {
        "id": "qHRbrZ7rYyx4"
      },
      "execution_count": null,
      "outputs": []
    },
    {
      "cell_type": "code",
      "source": [
        "#Write a main to test all the above functions"
      ],
      "metadata": {
        "id": "UkRg7PsGZYLE"
      },
      "execution_count": null,
      "outputs": []
    }
  ]
}