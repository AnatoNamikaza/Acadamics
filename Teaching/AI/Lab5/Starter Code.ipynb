{
  "nbformat": 4,
  "nbformat_minor": 0,
  "metadata": {
    "colab": {
      "provenance": []
    },
    "kernelspec": {
      "name": "python3",
      "display_name": "Python 3"
    },
    "language_info": {
      "name": "python"
    }
  },
  "cells": [
    {
      "cell_type": "code",
      "source": [
        "!pip install igraph"
      ],
      "metadata": {
        "colab": {
          "base_uri": "https://localhost:8080/"
        },
        "id": "OwBWwYdf38_b",
        "outputId": "aa0fcc43-7420-4936-8e3d-35f024337bf1"
      },
      "execution_count": 9,
      "outputs": [
        {
          "output_type": "stream",
          "name": "stdout",
          "text": [
            "Collecting igraph\n",
            "  Downloading igraph-0.11.4-cp39-abi3-manylinux_2_17_x86_64.manylinux2014_x86_64.whl (3.3 MB)\n",
            "\u001b[2K     \u001b[90m━━━━━━━━━━━━━━━━━━━━━━━━━━━━━━━━━━━━━━━━\u001b[0m \u001b[32m3.3/3.3 MB\u001b[0m \u001b[31m11.4 MB/s\u001b[0m eta \u001b[36m0:00:00\u001b[0m\n",
            "\u001b[?25hCollecting texttable>=1.6.2 (from igraph)\n",
            "  Downloading texttable-1.7.0-py2.py3-none-any.whl (10 kB)\n",
            "Installing collected packages: texttable, igraph\n",
            "Successfully installed igraph-0.11.4 texttable-1.7.0\n"
          ]
        }
      ]
    },
    {
      "cell_type": "markdown",
      "source": [
        "## Class Structre"
      ],
      "metadata": {
        "id": "ZbOBfktlHgwV"
      }
    },
    {
      "cell_type": "code",
      "source": [
        "class InvestmentOption:\n",
        "    def __init__(self, name, expected_return, risk):\n",
        "        self.name = name\n",
        "        self.expected_return = expected_return\n",
        "        self.risk = risk\n",
        "\n",
        "class Node:\n",
        "    def __init__(self, investment_option, remaining_budget, risk_tolerance, investment_horizon, value=None):\n",
        "        self.investment_option = investment_option\n",
        "        self.remaining_budget = remaining_budget\n",
        "        self.risk_tolerance = risk_tolerance\n",
        "        self.investment_horizon = investment_horizon\n",
        "        self.value = value\n",
        "        self.children = []"
      ],
      "metadata": {
        "id": "-xhv6TIC_tK2"
      },
      "execution_count": 58,
      "outputs": []
    },
    {
      "cell_type": "markdown",
      "source": [
        "## Ignore the below cell"
      ],
      "metadata": {
        "id": "qryAQ4rgHGoS"
      }
    },
    {
      "cell_type": "code",
      "source": [
        "import igraph\n",
        "from igraph import Graph, EdgeSeq\n",
        "import plotly.graph_objects as go\n",
        "\n",
        "def construct_graph(root):\n",
        "    g = Graph(directed=True)\n",
        "    queue = [(root, -1)]  # (node, parent_index)\n",
        "    while queue:\n",
        "        current_node, parent_index = queue.pop(0)\n",
        "        g.add_vertex(name=str(current_node.value))\n",
        "        if parent_index != -1:\n",
        "            g.add_edge(parent_index, g.vcount() - 1)\n",
        "        for child in current_node.children:\n",
        "            queue.append((child, g.vcount() - 1))\n",
        "    return g\n",
        "\n",
        "def plot_tree(root):\n",
        "    G = construct_graph(root)\n",
        "    lay = G.layout('rt')\n",
        "\n",
        "    position = {k: lay[k] for k in range(len(lay))}\n",
        "    Y = [lay[k][1] for k in range(len(lay))]\n",
        "    M = max(Y)\n",
        "\n",
        "    es = EdgeSeq(G)  # sequence of edges\n",
        "    E = [e.tuple for e in G.es]  # list of edges\n",
        "\n",
        "    Xn = [position[k][0] for k in range(len(position))]\n",
        "    Yn = [2 * M - position[k][1] for k in range(len(position))]\n",
        "    Xe = []\n",
        "    Ye = []\n",
        "    for edge in E:\n",
        "        Xe += [position[edge[0]][0], position[edge[1]][0], None]\n",
        "        Ye += [2 * M - position[edge[0]][1], 2 * M - position[edge[1]][1], None]\n",
        "\n",
        "    labels = [str(v) for v in range(len(position))]\n",
        "    hover_texts = []\n",
        "\n",
        "    def traverse_tree(node):\n",
        "        if not node:\n",
        "            return\n",
        "        hover_texts.append(f\"Node: {node.value}<br>\"\n",
        "                           f\"Investment Option: {node.investment_option.name}<br>\"\n",
        "                           f\"Expected Return: {node.investment_option.expected_return}<br>\"\n",
        "                           f\"Risk: {node.investment_option.risk}<br>\"\n",
        "                           f\"Remaining Budget: {node.remaining_budget}<br>\"\n",
        "                           f\"Risk Tolerance: {node.risk_tolerance}<br>\"\n",
        "                           f\"Investment Horizon: {node.investment_horizon}\")\n",
        "        for child in node.children:\n",
        "            traverse_tree(child)\n",
        "\n",
        "    traverse_tree(root)\n",
        "\n",
        "    fig = go.Figure()\n",
        "    fig.add_trace(go.Scatter(x=Xe,\n",
        "                             y=Ye,\n",
        "                             mode='lines',\n",
        "                             line=dict(color='rgb(210,210,210)', width=1),\n",
        "                             hoverinfo='none'\n",
        "                             ))\n",
        "    fig.add_trace(go.Scatter(x=Xn,\n",
        "                             y=Yn,\n",
        "                             mode='markers',\n",
        "                             name='bla',\n",
        "                             marker=dict(symbol='circle-dot',\n",
        "                                         size=32,  # change node size here\n",
        "                                         color='#6175c1',  # '#DB4551',\n",
        "                                         line=dict(color='rgb(50,50,50)', width=1)\n",
        "                                         ),\n",
        "                             text=labels,\n",
        "                             hoverinfo='text',\n",
        "                             opacity=0.8\n",
        "                             ))\n",
        "\n",
        "    def make_annotations(pos, text, font_size=10, font_color='rgb(250,250,250)'):\n",
        "        L = len(pos)\n",
        "        if len(text) != L:\n",
        "            raise ValueError('The lists pos and text must have the same len')\n",
        "        annotations = []\n",
        "        for k in range(L):\n",
        "            annotations.append(\n",
        "                dict(\n",
        "                    text=labels[k],\n",
        "                    x=pos[k][0], y=2 * M - position[k][1],\n",
        "                    xref='x1', yref='y1',\n",
        "                    font=dict(color=font_color, size=font_size),\n",
        "                    showarrow=False)\n",
        "            )\n",
        "        return annotations\n",
        "\n",
        "    axis = dict(showline=False,\n",
        "                zeroline=False,\n",
        "                showgrid=False,\n",
        "                showticklabels=False,\n",
        "                )\n",
        "\n",
        "    fig.update_layout(title='Tree with Reingold-Tilford Layout',\n",
        "                      annotations=make_annotations(position, labels),\n",
        "                      font_size=12,\n",
        "                      showlegend=False,\n",
        "                      xaxis=axis,\n",
        "                      yaxis=axis,\n",
        "                      margin=dict(l=40, r=40, b=85, t=100),\n",
        "                      hovermode='closest',\n",
        "                      plot_bgcolor='rgb(248,248,248)'\n",
        "                      )\n",
        "\n",
        "    fig.update_traces(hovertext=hover_texts)\n",
        "\n",
        "    fig.show()"
      ],
      "metadata": {
        "id": "aqMkLReV6wtM"
      },
      "execution_count": 59,
      "outputs": []
    },
    {
      "cell_type": "code",
      "source": [
        "# Example usage\n",
        "option_A = InvestmentOption(\"Option A\", 0.05, 0.1)\n",
        "option_B = InvestmentOption(\"Option B\", 0.07, 0.15)\n",
        "root_node = Node(option_A, 10000, 0.2, 5)\n",
        "root_node.children.append(Node(option_A, 7000, 0.18, 4))\n",
        "root_node.children.append(Node(option_B, 3000, 0.25, 3))\n",
        "root_node.children.append(Node(option_B, 3000, 0.25, 3))\n",
        "plot_tree(root_node)\n"
      ],
      "metadata": {
        "colab": {
          "base_uri": "https://localhost:8080/",
          "height": 542
        },
        "id": "AW09DXVMG5Wr",
        "outputId": "02c8c426-f507-4ba3-cd61-b24e469cff68"
      },
      "execution_count": 60,
      "outputs": [
        {
          "output_type": "display_data",
          "data": {
            "text/html": [
              "<html>\n",
              "<head><meta charset=\"utf-8\" /></head>\n",
              "<body>\n",
              "    <div>            <script src=\"https://cdnjs.cloudflare.com/ajax/libs/mathjax/2.7.5/MathJax.js?config=TeX-AMS-MML_SVG\"></script><script type=\"text/javascript\">if (window.MathJax && window.MathJax.Hub && window.MathJax.Hub.Config) {window.MathJax.Hub.Config({SVG: {font: \"STIX-Web\"}});}</script>                <script type=\"text/javascript\">window.PlotlyConfig = {MathJaxConfig: 'local'};</script>\n",
              "        <script charset=\"utf-8\" src=\"https://cdn.plot.ly/plotly-2.24.1.min.js\"></script>                <div id=\"f61c5d13-cd0c-497d-9cfb-cb0b1ec3acc1\" class=\"plotly-graph-div\" style=\"height:525px; width:100%;\"></div>            <script type=\"text/javascript\">                                    window.PLOTLYENV=window.PLOTLYENV || {};                                    if (document.getElementById(\"f61c5d13-cd0c-497d-9cfb-cb0b1ec3acc1\")) {                    Plotly.newPlot(                        \"f61c5d13-cd0c-497d-9cfb-cb0b1ec3acc1\",                        [{\"hoverinfo\":\"none\",\"line\":{\"color\":\"rgb(210,210,210)\",\"width\":1},\"mode\":\"lines\",\"x\":[0.0,-1.0,null,0.0,0.0,null,0.0,1.0,null],\"y\":[2.0,1.0,null,2.0,1.0,null,2.0,1.0,null],\"type\":\"scatter\",\"hovertext\":[\"Node: None\\u003cbr\\u003eInvestment Option: Option A\\u003cbr\\u003eExpected Return: 0.05\\u003cbr\\u003eRisk: 0.1\\u003cbr\\u003eRemaining Budget: 10000\\u003cbr\\u003eRisk Tolerance: 0.2\\u003cbr\\u003eInvestment Horizon: 5\",\"Node: None\\u003cbr\\u003eInvestment Option: Option A\\u003cbr\\u003eExpected Return: 0.05\\u003cbr\\u003eRisk: 0.1\\u003cbr\\u003eRemaining Budget: 7000\\u003cbr\\u003eRisk Tolerance: 0.18\\u003cbr\\u003eInvestment Horizon: 4\",\"Node: None\\u003cbr\\u003eInvestment Option: Option B\\u003cbr\\u003eExpected Return: 0.07\\u003cbr\\u003eRisk: 0.15\\u003cbr\\u003eRemaining Budget: 3000\\u003cbr\\u003eRisk Tolerance: 0.25\\u003cbr\\u003eInvestment Horizon: 3\",\"Node: None\\u003cbr\\u003eInvestment Option: Option B\\u003cbr\\u003eExpected Return: 0.07\\u003cbr\\u003eRisk: 0.15\\u003cbr\\u003eRemaining Budget: 3000\\u003cbr\\u003eRisk Tolerance: 0.25\\u003cbr\\u003eInvestment Horizon: 3\"]},{\"hoverinfo\":\"text\",\"marker\":{\"color\":\"#6175c1\",\"line\":{\"color\":\"rgb(50,50,50)\",\"width\":1},\"size\":32,\"symbol\":\"circle-dot\"},\"mode\":\"markers\",\"name\":\"bla\",\"opacity\":0.8,\"text\":[\"0\",\"1\",\"2\",\"3\"],\"x\":[0.0,-1.0,0.0,1.0],\"y\":[2.0,1.0,1.0,1.0],\"type\":\"scatter\",\"hovertext\":[\"Node: None\\u003cbr\\u003eInvestment Option: Option A\\u003cbr\\u003eExpected Return: 0.05\\u003cbr\\u003eRisk: 0.1\\u003cbr\\u003eRemaining Budget: 10000\\u003cbr\\u003eRisk Tolerance: 0.2\\u003cbr\\u003eInvestment Horizon: 5\",\"Node: None\\u003cbr\\u003eInvestment Option: Option A\\u003cbr\\u003eExpected Return: 0.05\\u003cbr\\u003eRisk: 0.1\\u003cbr\\u003eRemaining Budget: 7000\\u003cbr\\u003eRisk Tolerance: 0.18\\u003cbr\\u003eInvestment Horizon: 4\",\"Node: None\\u003cbr\\u003eInvestment Option: Option B\\u003cbr\\u003eExpected Return: 0.07\\u003cbr\\u003eRisk: 0.15\\u003cbr\\u003eRemaining Budget: 3000\\u003cbr\\u003eRisk Tolerance: 0.25\\u003cbr\\u003eInvestment Horizon: 3\",\"Node: None\\u003cbr\\u003eInvestment Option: Option B\\u003cbr\\u003eExpected Return: 0.07\\u003cbr\\u003eRisk: 0.15\\u003cbr\\u003eRemaining Budget: 3000\\u003cbr\\u003eRisk Tolerance: 0.25\\u003cbr\\u003eInvestment Horizon: 3\"]}],                        {\"template\":{\"data\":{\"histogram2dcontour\":[{\"type\":\"histogram2dcontour\",\"colorbar\":{\"outlinewidth\":0,\"ticks\":\"\"},\"colorscale\":[[0.0,\"#0d0887\"],[0.1111111111111111,\"#46039f\"],[0.2222222222222222,\"#7201a8\"],[0.3333333333333333,\"#9c179e\"],[0.4444444444444444,\"#bd3786\"],[0.5555555555555556,\"#d8576b\"],[0.6666666666666666,\"#ed7953\"],[0.7777777777777778,\"#fb9f3a\"],[0.8888888888888888,\"#fdca26\"],[1.0,\"#f0f921\"]]}],\"choropleth\":[{\"type\":\"choropleth\",\"colorbar\":{\"outlinewidth\":0,\"ticks\":\"\"}}],\"histogram2d\":[{\"type\":\"histogram2d\",\"colorbar\":{\"outlinewidth\":0,\"ticks\":\"\"},\"colorscale\":[[0.0,\"#0d0887\"],[0.1111111111111111,\"#46039f\"],[0.2222222222222222,\"#7201a8\"],[0.3333333333333333,\"#9c179e\"],[0.4444444444444444,\"#bd3786\"],[0.5555555555555556,\"#d8576b\"],[0.6666666666666666,\"#ed7953\"],[0.7777777777777778,\"#fb9f3a\"],[0.8888888888888888,\"#fdca26\"],[1.0,\"#f0f921\"]]}],\"heatmap\":[{\"type\":\"heatmap\",\"colorbar\":{\"outlinewidth\":0,\"ticks\":\"\"},\"colorscale\":[[0.0,\"#0d0887\"],[0.1111111111111111,\"#46039f\"],[0.2222222222222222,\"#7201a8\"],[0.3333333333333333,\"#9c179e\"],[0.4444444444444444,\"#bd3786\"],[0.5555555555555556,\"#d8576b\"],[0.6666666666666666,\"#ed7953\"],[0.7777777777777778,\"#fb9f3a\"],[0.8888888888888888,\"#fdca26\"],[1.0,\"#f0f921\"]]}],\"heatmapgl\":[{\"type\":\"heatmapgl\",\"colorbar\":{\"outlinewidth\":0,\"ticks\":\"\"},\"colorscale\":[[0.0,\"#0d0887\"],[0.1111111111111111,\"#46039f\"],[0.2222222222222222,\"#7201a8\"],[0.3333333333333333,\"#9c179e\"],[0.4444444444444444,\"#bd3786\"],[0.5555555555555556,\"#d8576b\"],[0.6666666666666666,\"#ed7953\"],[0.7777777777777778,\"#fb9f3a\"],[0.8888888888888888,\"#fdca26\"],[1.0,\"#f0f921\"]]}],\"contourcarpet\":[{\"type\":\"contourcarpet\",\"colorbar\":{\"outlinewidth\":0,\"ticks\":\"\"}}],\"contour\":[{\"type\":\"contour\",\"colorbar\":{\"outlinewidth\":0,\"ticks\":\"\"},\"colorscale\":[[0.0,\"#0d0887\"],[0.1111111111111111,\"#46039f\"],[0.2222222222222222,\"#7201a8\"],[0.3333333333333333,\"#9c179e\"],[0.4444444444444444,\"#bd3786\"],[0.5555555555555556,\"#d8576b\"],[0.6666666666666666,\"#ed7953\"],[0.7777777777777778,\"#fb9f3a\"],[0.8888888888888888,\"#fdca26\"],[1.0,\"#f0f921\"]]}],\"surface\":[{\"type\":\"surface\",\"colorbar\":{\"outlinewidth\":0,\"ticks\":\"\"},\"colorscale\":[[0.0,\"#0d0887\"],[0.1111111111111111,\"#46039f\"],[0.2222222222222222,\"#7201a8\"],[0.3333333333333333,\"#9c179e\"],[0.4444444444444444,\"#bd3786\"],[0.5555555555555556,\"#d8576b\"],[0.6666666666666666,\"#ed7953\"],[0.7777777777777778,\"#fb9f3a\"],[0.8888888888888888,\"#fdca26\"],[1.0,\"#f0f921\"]]}],\"mesh3d\":[{\"type\":\"mesh3d\",\"colorbar\":{\"outlinewidth\":0,\"ticks\":\"\"}}],\"scatter\":[{\"fillpattern\":{\"fillmode\":\"overlay\",\"size\":10,\"solidity\":0.2},\"type\":\"scatter\"}],\"parcoords\":[{\"type\":\"parcoords\",\"line\":{\"colorbar\":{\"outlinewidth\":0,\"ticks\":\"\"}}}],\"scatterpolargl\":[{\"type\":\"scatterpolargl\",\"marker\":{\"colorbar\":{\"outlinewidth\":0,\"ticks\":\"\"}}}],\"bar\":[{\"error_x\":{\"color\":\"#2a3f5f\"},\"error_y\":{\"color\":\"#2a3f5f\"},\"marker\":{\"line\":{\"color\":\"#E5ECF6\",\"width\":0.5},\"pattern\":{\"fillmode\":\"overlay\",\"size\":10,\"solidity\":0.2}},\"type\":\"bar\"}],\"scattergeo\":[{\"type\":\"scattergeo\",\"marker\":{\"colorbar\":{\"outlinewidth\":0,\"ticks\":\"\"}}}],\"scatterpolar\":[{\"type\":\"scatterpolar\",\"marker\":{\"colorbar\":{\"outlinewidth\":0,\"ticks\":\"\"}}}],\"histogram\":[{\"marker\":{\"pattern\":{\"fillmode\":\"overlay\",\"size\":10,\"solidity\":0.2}},\"type\":\"histogram\"}],\"scattergl\":[{\"type\":\"scattergl\",\"marker\":{\"colorbar\":{\"outlinewidth\":0,\"ticks\":\"\"}}}],\"scatter3d\":[{\"type\":\"scatter3d\",\"line\":{\"colorbar\":{\"outlinewidth\":0,\"ticks\":\"\"}},\"marker\":{\"colorbar\":{\"outlinewidth\":0,\"ticks\":\"\"}}}],\"scattermapbox\":[{\"type\":\"scattermapbox\",\"marker\":{\"colorbar\":{\"outlinewidth\":0,\"ticks\":\"\"}}}],\"scatterternary\":[{\"type\":\"scatterternary\",\"marker\":{\"colorbar\":{\"outlinewidth\":0,\"ticks\":\"\"}}}],\"scattercarpet\":[{\"type\":\"scattercarpet\",\"marker\":{\"colorbar\":{\"outlinewidth\":0,\"ticks\":\"\"}}}],\"carpet\":[{\"aaxis\":{\"endlinecolor\":\"#2a3f5f\",\"gridcolor\":\"white\",\"linecolor\":\"white\",\"minorgridcolor\":\"white\",\"startlinecolor\":\"#2a3f5f\"},\"baxis\":{\"endlinecolor\":\"#2a3f5f\",\"gridcolor\":\"white\",\"linecolor\":\"white\",\"minorgridcolor\":\"white\",\"startlinecolor\":\"#2a3f5f\"},\"type\":\"carpet\"}],\"table\":[{\"cells\":{\"fill\":{\"color\":\"#EBF0F8\"},\"line\":{\"color\":\"white\"}},\"header\":{\"fill\":{\"color\":\"#C8D4E3\"},\"line\":{\"color\":\"white\"}},\"type\":\"table\"}],\"barpolar\":[{\"marker\":{\"line\":{\"color\":\"#E5ECF6\",\"width\":0.5},\"pattern\":{\"fillmode\":\"overlay\",\"size\":10,\"solidity\":0.2}},\"type\":\"barpolar\"}],\"pie\":[{\"automargin\":true,\"type\":\"pie\"}]},\"layout\":{\"autotypenumbers\":\"strict\",\"colorway\":[\"#636efa\",\"#EF553B\",\"#00cc96\",\"#ab63fa\",\"#FFA15A\",\"#19d3f3\",\"#FF6692\",\"#B6E880\",\"#FF97FF\",\"#FECB52\"],\"font\":{\"color\":\"#2a3f5f\"},\"hovermode\":\"closest\",\"hoverlabel\":{\"align\":\"left\"},\"paper_bgcolor\":\"white\",\"plot_bgcolor\":\"#E5ECF6\",\"polar\":{\"bgcolor\":\"#E5ECF6\",\"angularaxis\":{\"gridcolor\":\"white\",\"linecolor\":\"white\",\"ticks\":\"\"},\"radialaxis\":{\"gridcolor\":\"white\",\"linecolor\":\"white\",\"ticks\":\"\"}},\"ternary\":{\"bgcolor\":\"#E5ECF6\",\"aaxis\":{\"gridcolor\":\"white\",\"linecolor\":\"white\",\"ticks\":\"\"},\"baxis\":{\"gridcolor\":\"white\",\"linecolor\":\"white\",\"ticks\":\"\"},\"caxis\":{\"gridcolor\":\"white\",\"linecolor\":\"white\",\"ticks\":\"\"}},\"coloraxis\":{\"colorbar\":{\"outlinewidth\":0,\"ticks\":\"\"}},\"colorscale\":{\"sequential\":[[0.0,\"#0d0887\"],[0.1111111111111111,\"#46039f\"],[0.2222222222222222,\"#7201a8\"],[0.3333333333333333,\"#9c179e\"],[0.4444444444444444,\"#bd3786\"],[0.5555555555555556,\"#d8576b\"],[0.6666666666666666,\"#ed7953\"],[0.7777777777777778,\"#fb9f3a\"],[0.8888888888888888,\"#fdca26\"],[1.0,\"#f0f921\"]],\"sequentialminus\":[[0.0,\"#0d0887\"],[0.1111111111111111,\"#46039f\"],[0.2222222222222222,\"#7201a8\"],[0.3333333333333333,\"#9c179e\"],[0.4444444444444444,\"#bd3786\"],[0.5555555555555556,\"#d8576b\"],[0.6666666666666666,\"#ed7953\"],[0.7777777777777778,\"#fb9f3a\"],[0.8888888888888888,\"#fdca26\"],[1.0,\"#f0f921\"]],\"diverging\":[[0,\"#8e0152\"],[0.1,\"#c51b7d\"],[0.2,\"#de77ae\"],[0.3,\"#f1b6da\"],[0.4,\"#fde0ef\"],[0.5,\"#f7f7f7\"],[0.6,\"#e6f5d0\"],[0.7,\"#b8e186\"],[0.8,\"#7fbc41\"],[0.9,\"#4d9221\"],[1,\"#276419\"]]},\"xaxis\":{\"gridcolor\":\"white\",\"linecolor\":\"white\",\"ticks\":\"\",\"title\":{\"standoff\":15},\"zerolinecolor\":\"white\",\"automargin\":true,\"zerolinewidth\":2},\"yaxis\":{\"gridcolor\":\"white\",\"linecolor\":\"white\",\"ticks\":\"\",\"title\":{\"standoff\":15},\"zerolinecolor\":\"white\",\"automargin\":true,\"zerolinewidth\":2},\"scene\":{\"xaxis\":{\"backgroundcolor\":\"#E5ECF6\",\"gridcolor\":\"white\",\"linecolor\":\"white\",\"showbackground\":true,\"ticks\":\"\",\"zerolinecolor\":\"white\",\"gridwidth\":2},\"yaxis\":{\"backgroundcolor\":\"#E5ECF6\",\"gridcolor\":\"white\",\"linecolor\":\"white\",\"showbackground\":true,\"ticks\":\"\",\"zerolinecolor\":\"white\",\"gridwidth\":2},\"zaxis\":{\"backgroundcolor\":\"#E5ECF6\",\"gridcolor\":\"white\",\"linecolor\":\"white\",\"showbackground\":true,\"ticks\":\"\",\"zerolinecolor\":\"white\",\"gridwidth\":2}},\"shapedefaults\":{\"line\":{\"color\":\"#2a3f5f\"}},\"annotationdefaults\":{\"arrowcolor\":\"#2a3f5f\",\"arrowhead\":0,\"arrowwidth\":1},\"geo\":{\"bgcolor\":\"white\",\"landcolor\":\"#E5ECF6\",\"subunitcolor\":\"white\",\"showland\":true,\"showlakes\":true,\"lakecolor\":\"white\"},\"title\":{\"x\":0.05},\"mapbox\":{\"style\":\"light\"}}},\"font\":{\"size\":12},\"xaxis\":{\"showline\":false,\"zeroline\":false,\"showgrid\":false,\"showticklabels\":false},\"yaxis\":{\"showline\":false,\"zeroline\":false,\"showgrid\":false,\"showticklabels\":false},\"margin\":{\"l\":40,\"r\":40,\"b\":85,\"t\":100},\"title\":{\"text\":\"Tree with Reingold-Tilford Layout\"},\"annotations\":[{\"font\":{\"color\":\"rgb(250,250,250)\",\"size\":10},\"showarrow\":false,\"text\":\"0\",\"x\":0.0,\"xref\":\"x\",\"y\":2.0,\"yref\":\"y\"},{\"font\":{\"color\":\"rgb(250,250,250)\",\"size\":10},\"showarrow\":false,\"text\":\"1\",\"x\":-1.0,\"xref\":\"x\",\"y\":1.0,\"yref\":\"y\"},{\"font\":{\"color\":\"rgb(250,250,250)\",\"size\":10},\"showarrow\":false,\"text\":\"2\",\"x\":0.0,\"xref\":\"x\",\"y\":1.0,\"yref\":\"y\"},{\"font\":{\"color\":\"rgb(250,250,250)\",\"size\":10},\"showarrow\":false,\"text\":\"3\",\"x\":1.0,\"xref\":\"x\",\"y\":1.0,\"yref\":\"y\"}],\"showlegend\":false,\"hovermode\":\"closest\",\"plot_bgcolor\":\"rgb(248,248,248)\"},                        {\"responsive\": true}                    ).then(function(){\n",
              "                            \n",
              "var gd = document.getElementById('f61c5d13-cd0c-497d-9cfb-cb0b1ec3acc1');\n",
              "var x = new MutationObserver(function (mutations, observer) {{\n",
              "        var display = window.getComputedStyle(gd).display;\n",
              "        if (!display || display === 'none') {{\n",
              "            console.log([gd, 'removed!']);\n",
              "            Plotly.purge(gd);\n",
              "            observer.disconnect();\n",
              "        }}\n",
              "}});\n",
              "\n",
              "// Listen for the removal of the full notebook cells\n",
              "var notebookContainer = gd.closest('#notebook-container');\n",
              "if (notebookContainer) {{\n",
              "    x.observe(notebookContainer, {childList: true});\n",
              "}}\n",
              "\n",
              "// Listen for the clearing of the current output cell\n",
              "var outputEl = gd.closest('.output');\n",
              "if (outputEl) {{\n",
              "    x.observe(outputEl, {childList: true});\n",
              "}}\n",
              "\n",
              "                        })                };                            </script>        </div>\n",
              "</body>\n",
              "</html>"
            ]
          },
          "metadata": {}
        }
      ]
    },
    {
      "cell_type": "markdown",
      "source": [
        "## Start Task From here"
      ],
      "metadata": {
        "id": "QCTTWHIwHV_u"
      }
    },
    {
      "cell_type": "code",
      "source": [
        "def evaluate_node(node):\n",
        "    # Define evaluation function to assess portfolio quality\n",
        "    # will be used to assign the node value\n",
        "    pass"
      ],
      "metadata": {
        "id": "QwZs1V1WHY1e"
      },
      "execution_count": 74,
      "outputs": []
    },
    {
      "cell_type": "code",
      "source": [
        "def generate_possible_moves(root):\n",
        "    # Generate possible portfolio allocations based on remaining budget and available options\n",
        "    # 1. You must randomly initialize up to 3 child\n",
        "    # 2. For each child you must randomly make a decision of profit or lose or neutral\n",
        "    # 3. For profit, you increment the expected_return by a reasonable random number\n",
        "    # 4. For lose, you increment the risk by a reasonable random number and then subtract risk * budget from remaining_budget\n",
        "    # 5. For neutral, nothing is changed\n",
        "    pass"
      ],
      "metadata": {
        "id": "wX2H1pWLIANs"
      },
      "execution_count": 75,
      "outputs": []
    },
    {
      "cell_type": "code",
      "source": [
        "def is_terminal(node):\n",
        "    # Check if node is a terminal node in the decision tree\n",
        "    # Define Yourself\n",
        "    pass"
      ],
      "metadata": {
        "id": "CVaVZeVhID8C"
      },
      "execution_count": 92,
      "outputs": []
    },
    {
      "cell_type": "code",
      "source": [
        "def against_rules(node):\n",
        "    # Check if node is a violating any rules of decision tree\n",
        "    # Define Yourself\n",
        "    pass"
      ],
      "metadata": {
        "id": "si54buM4QAZ2"
      },
      "execution_count": 77,
      "outputs": []
    },
    {
      "cell_type": "code",
      "source": [
        "def minimax(node, depth, alpha, beta, maximizing_player):\n",
        "    if depth == 0 or is_terminal(node) or against_rules(node):\n",
        "        return node.value\n",
        "\n",
        "    if maximizing_player:\n",
        "        max_value = float('-inf')\n",
        "        for child in node.children:\n",
        "            value = minimax(child, depth - 1, alpha, beta, False)\n",
        "            max_value = max(max_value, value)\n",
        "            alpha = max(alpha, value)\n",
        "            if beta <= alpha:\n",
        "                break  # Beta cutoff\n",
        "        return max_value\n",
        "    else:\n",
        "        min_value = float('inf')\n",
        "        for child in node.children:\n",
        "            value = minimax(child, depth - 1, alpha, beta, True)\n",
        "            min_value = min(min_value, value)\n",
        "            beta = min(beta, value)\n",
        "            if beta <= alpha:\n",
        "                break  # Alpha cutoff\n",
        "        return min_value"
      ],
      "metadata": {
        "id": "DHpE1RnsIFLv"
      },
      "execution_count": 78,
      "outputs": []
    },
    {
      "cell_type": "code",
      "source": [
        "def get_best_move(options, initial_budget, risk_tolerance, investment_horizon):\n",
        "    best_value = float('-inf')\n",
        "    best_option = None\n",
        "    roots = []\n",
        "\n",
        "    for option in options:\n",
        "        root = Node(option, initial_budget, risk_tolerance, investment_horizon)\n",
        "        generate_possible_moves(root)\n",
        "        roots.append(root)\n",
        "\n",
        "        value = minimax(root, depth=root.investment_horizon, alpha=float('-inf'), beta=float('inf'), maximizing_player=False)\n",
        "\n",
        "        if value > best_value:\n",
        "            best_value = value\n",
        "            best_option = option\n",
        "\n",
        "    return best_value, best_option, roots"
      ],
      "metadata": {
        "id": "x9Z0oJOIIRSf"
      },
      "execution_count": 87,
      "outputs": []
    },
    {
      "cell_type": "code",
      "source": [
        "# Sample investment options\n",
        "options = [\n",
        "    InvestmentOption(name='Stocks', expected_return=0.1, risk=0.05),\n",
        "    InvestmentOption(name='Bonds', expected_return=0.05, risk=0.02),\n",
        "    InvestmentOption(name='Real Estate', expected_return=0.08, risk=0.03)\n",
        "]"
      ],
      "metadata": {
        "id": "ACDvaO0gNZzE"
      },
      "execution_count": 88,
      "outputs": []
    },
    {
      "cell_type": "code",
      "source": [
        "# Initial parameters\n",
        "initial_budget = 10000\n",
        "risk_tolerance = 0.5\n",
        "investment_horizon = 5"
      ],
      "metadata": {
        "id": "lnV-Q8QfNbXL"
      },
      "execution_count": 89,
      "outputs": []
    },
    {
      "cell_type": "code",
      "source": [
        "# Find the best move (portfolio allocation)\n",
        "best_value, best_option, roots = get_best_move(options, initial_budget, risk_tolerance, investment_horizon)"
      ],
      "metadata": {
        "id": "6cWu7nvINenG"
      },
      "execution_count": 90,
      "outputs": []
    },
    {
      "cell_type": "code",
      "source": [
        "plot_tree(roots[0])"
      ],
      "metadata": {
        "id": "sK9Otmz2Ll32"
      },
      "execution_count": null,
      "outputs": []
    },
    {
      "cell_type": "code",
      "source": [
        "plot_tree(roots[1])"
      ],
      "metadata": {
        "id": "3qh831zlLwG1"
      },
      "execution_count": null,
      "outputs": []
    },
    {
      "cell_type": "code",
      "source": [
        "plot_tree(roots[2])"
      ],
      "metadata": {
        "id": "g-IaFFl7Lxmm"
      },
      "execution_count": null,
      "outputs": []
    },
    {
      "cell_type": "code",
      "source": [
        "# Print the recommended portfolio allocation\n",
        "print(\"Recommended Portfolio Allocation:\", best_option.name)\n",
        "print(\"Max Profit Achievable:\", best_value)"
      ],
      "metadata": {
        "id": "PVyBmdZgNghJ"
      },
      "execution_count": null,
      "outputs": []
    }
  ]
}