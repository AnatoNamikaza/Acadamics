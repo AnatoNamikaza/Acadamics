{
 "cells": [
  {
   "cell_type": "markdown",
   "id": "3261a3d8",
   "metadata": {},
   "source": [
    "# Installation Requirements"
   ]
  },
  {
   "cell_type": "code",
   "execution_count": null,
   "id": "69be351f",
   "metadata": {},
   "outputs": [],
   "source": [
    "pip install qiskit"
   ]
  },
  {
   "cell_type": "code",
   "execution_count": null,
   "id": "8affe7b0",
   "metadata": {},
   "outputs": [],
   "source": [
    "pip install qiskit-ibm-runtime"
   ]
  },
  {
   "cell_type": "code",
   "execution_count": null,
   "id": "63a4755c",
   "metadata": {},
   "outputs": [],
   "source": [
    "pip install 'qiskit[visualization]'"
   ]
  },
  {
   "cell_type": "code",
   "execution_count": null,
   "id": "00fd1665",
   "metadata": {},
   "outputs": [],
   "source": [
    "pip install qiskit-aer"
   ]
  },
  {
   "cell_type": "code",
   "execution_count": null,
   "id": "47c31145",
   "metadata": {},
   "outputs": [],
   "source": [
    "pip install --upgrade qiskit"
   ]
  },
  {
   "cell_type": "code",
   "execution_count": null,
   "id": "e1060045",
   "metadata": {},
   "outputs": [],
   "source": [
    "import qiskit"
   ]
  },
  {
   "cell_type": "code",
   "execution_count": null,
   "id": "420801bf",
   "metadata": {},
   "outputs": [],
   "source": [
    "#check the qiskit version\n",
    "qiskit.__qiskit_version__"
   ]
  },
  {
   "cell_type": "markdown",
   "id": "7c2ff088",
   "metadata": {},
   "source": [
    "# Simple Quantum Circuit"
   ]
  },
  {
   "cell_type": "code",
   "execution_count": null,
   "id": "66e29878",
   "metadata": {},
   "outputs": [],
   "source": [
    "# Import necessary libraries\n",
    "import numpy as np\n",
    "from qiskit import QuantumCircuit\n",
    "from qiskit.visualization import plot_histogram\n",
    "\n",
    "# Create a quantum circuit with three qubit\n",
    "qc = QuantumCircuit(3)\n",
    "\n",
    "# Add a H gate on qubit 0, putting this qubit in superposition.\n",
    "qc.h(0)\n",
    "\n",
    "# Add a CX (CNOT) gate on control qubit 0 and target qubit 1, putting\n",
    "# the qubits in a Bell state.\n",
    "qc.cx(0, 1)\n",
    "\n",
    "# Add a CX (CNOT) gate on control qubit 0 and target qubit 2, putting\n",
    "# the qubits in a GHZ state.\n",
    "qc.cx(0, 2)"
   ]
  },
  {
   "cell_type": "code",
   "execution_count": null,
   "id": "f5e59125",
   "metadata": {},
   "outputs": [],
   "source": [
    "qc.draw()\n",
    "#qc.draw('mpl')"
   ]
  },
  {
   "cell_type": "code",
   "execution_count": null,
   "id": "132f9941",
   "metadata": {},
   "outputs": [],
   "source": [
    "# Create a simple quantum circuit with one qubit\n",
    "qc = QuantumCircuit(1)\n",
    "\n",
    "# Apply a Hadamard gate to the qubit\n",
    "qc.h(0)\n",
    "\n",
    "# Measure the qubit\n",
    "qc.measure_all()"
   ]
  },
  {
   "cell_type": "code",
   "execution_count": null,
   "id": "4373ef93",
   "metadata": {},
   "outputs": [],
   "source": [
    "#qc.draw()\n",
    "qc.draw(output='mpl')"
   ]
  },
  {
   "cell_type": "markdown",
   "id": "afb4eee7",
   "metadata": {},
   "source": [
    "# Simulating circuits using Qiskit Aer"
   ]
  },
  {
   "cell_type": "code",
   "execution_count": null,
   "id": "d47cc681",
   "metadata": {},
   "outputs": [],
   "source": [
    "# Import Aer\n",
    "from qiskit import Aer\n",
    "\n",
    "# Run the quantum circuit on a statevector simulator backend\n",
    "backend = Aer.get_backend('statevector_simulator')"
   ]
  },
  {
   "cell_type": "code",
   "execution_count": null,
   "id": "a7487be7",
   "metadata": {},
   "outputs": [],
   "source": [
    "# Create a Quantum Program for execution\n",
    "job = backend.run(qc)"
   ]
  },
  {
   "cell_type": "code",
   "execution_count": null,
   "id": "352a71b7",
   "metadata": {},
   "outputs": [],
   "source": [
    "result = job.result()"
   ]
  },
  {
   "cell_type": "code",
   "execution_count": null,
   "id": "d7a104dd",
   "metadata": {},
   "outputs": [],
   "source": [
    "outputstate = result.get_statevector(qc, decimals=3)\n",
    "print(outputstate)"
   ]
  },
  {
   "cell_type": "code",
   "execution_count": null,
   "id": "0a03b4cd",
   "metadata": {},
   "outputs": [],
   "source": [
    "from qiskit.visualization import plot_state_city\n",
    "plot_state_city(outputstate)"
   ]
  },
  {
   "cell_type": "code",
   "execution_count": null,
   "id": "064ab28c",
   "metadata": {},
   "outputs": [],
   "source": [
    "# Create a quantum circuit with three qubit\n",
    "qc = QuantumCircuit(3)\n",
    "\n",
    "# Add a H gate on qubit 0, putting this qubit in superposition.\n",
    "qc.h(0)\n",
    "\n",
    "# Add a CX (CNOT) gate on control qubit 0 and target qubit 1, putting\n",
    "# the qubits in a Bell state.\n",
    "qc.cx(0, 1)\n",
    "\n",
    "# Add a CX (CNOT) gate on control qubit 0 and target qubit 2, putting\n",
    "# the qubits in a GHZ state.\n",
    "qc.cx(0, 2)"
   ]
  },
  {
   "cell_type": "code",
   "execution_count": null,
   "id": "c1a6c6e5",
   "metadata": {},
   "outputs": [],
   "source": [
    "backend = Aer.get_backend('statevector_simulator')\n",
    "job = backend.run(qc)\n",
    "result = job.result()\n",
    "outputstate = result.get_statevector(qc, decimals=3)\n",
    "print(outputstate)"
   ]
  },
  {
   "cell_type": "code",
   "execution_count": null,
   "id": "4059f1b9",
   "metadata": {},
   "outputs": [],
   "source": [
    "plot_state_city(outputstate)"
   ]
  },
  {
   "cell_type": "markdown",
   "id": "7a11897c",
   "metadata": {},
   "source": [
    "# Unitary backend"
   ]
  },
  {
   "cell_type": "code",
   "execution_count": null,
   "id": "5e864774",
   "metadata": {},
   "outputs": [],
   "source": [
    "# Run the quantum circuit on a unitary simulator backend\n",
    "backend = Aer.get_backend('unitary_simulator')\n",
    "job = backend.run(qc)\n",
    "result = job.result()\n",
    "\n",
    "# Show the results\n",
    "print(result.get_unitary(qc, decimals=3))"
   ]
  },
  {
   "cell_type": "code",
   "execution_count": null,
   "id": "e956bd34",
   "metadata": {},
   "outputs": [],
   "source": [
    "# Create a Quantum Circuit\n",
    "meas = QuantumCircuit(3, 3)\n",
    "meas.barrier(range(3))\n",
    "# map the quantum measurement to the classical bits\n",
    "meas.measure(range(3), range(3))\n",
    "\n",
    "# The Qiskit circuit object supports composition using\n",
    "# the compose method.\n",
    "qc.add_register(meas.cregs[0])\n",
    "qc = qc.compose(meas)\n",
    "\n",
    "#drawing the circuit\n",
    "qc.draw()"
   ]
  },
  {
   "cell_type": "code",
   "execution_count": null,
   "id": "2ba5532d",
   "metadata": {},
   "outputs": [],
   "source": [
    "# Use Aer's qasm_simulator\n",
    "backend_sim = Aer.get_backend('qasm_simulator')\n",
    "\n",
    "# Execute the circuit on the qasm simulator.\n",
    "# We've set the number of repeats of the circuit\n",
    "# to be 1024, which is the default.\n",
    "job_sim = backend_sim.run(transpile(qc, backend_sim), shots=1024)\n",
    "\n",
    "# Grab the results from the job.\n",
    "result_sim = job_sim.result()"
   ]
  },
  {
   "cell_type": "code",
   "execution_count": null,
   "id": "1e458205",
   "metadata": {},
   "outputs": [],
   "source": [
    "counts = result_sim.get_counts(qc)\n",
    "print(counts)"
   ]
  },
  {
   "cell_type": "code",
   "execution_count": null,
   "id": "7908a4ac",
   "metadata": {},
   "outputs": [],
   "source": [
    "from qiskit.visualization import plot_histogram\n",
    "plot_histogram(counts)"
   ]
  },
  {
   "cell_type": "code",
   "execution_count": null,
   "id": "c45ec551",
   "metadata": {},
   "outputs": [],
   "source": []
  }
 ],
 "metadata": {
  "kernelspec": {
   "display_name": "Python 3 (ipykernel)",
   "language": "python",
   "name": "python3"
  },
  "language_info": {
   "codemirror_mode": {
    "name": "ipython",
    "version": 3
   },
   "file_extension": ".py",
   "mimetype": "text/x-python",
   "name": "python",
   "nbconvert_exporter": "python",
   "pygments_lexer": "ipython3",
   "version": "3.9.13"
  }
 },
 "nbformat": 4,
 "nbformat_minor": 5
}
