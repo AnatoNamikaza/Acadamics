{
  "cells": [
    {
      "cell_type": "markdown",
      "metadata": {},
      "source": [
        "# **<span style=\"color: #87CEEB;\">Welcome to CS437/CS5317/EE414/EE513 Deep Learning</span>**\n",
        "\n",
        "# <span style=\"color: #9370DB;\">**Submission Guidelines**</span>\n",
        "\n",
        "- <span style=\"color: #9370DB;\">Please rename the file to `PA0_1_<RollNumber>`.</span>\n",
        "- <span style=\"color: #9370DB;\">Please also submit a **.py** file of every Notebook. You can do this by exporting your **ipynb** to a Python script.</span>\n",
        "- <span style=\"color: #9370DB;\">Please submit a zipped folder of both your Jupyter Notebooks and Python script files.</span>\n",
        "\n",
        "\n"
      ]
    },
    {
      "attachments": {},
      "cell_type": "markdown",
      "metadata": {},
      "source": [
        "<h1><b> Programming Assignment 0: Introduction to Python </b></h1>\n",
        "\n",
        "Credits: This notebook is based on a [Python tutorial](http://cs231n.github.io/python-numpy-tutorial/) by [Justin Johnson](https://web.eecs.umich.edu/~justincj/) for [CS231n](http://cs231n.github.io/). "
      ]
    },
    {
      "attachments": {},
      "cell_type": "markdown",
      "metadata": {},
      "source": [
        "#### Name:\n",
        "#### Roll Number: "
      ]
    },
    {
      "cell_type": "markdown",
      "metadata": {
        "id": "wBl9cAD_4IE6"
      },
      "source": [
        "<h1> Python </h1>\n",
        "\n",
        "We will use the Python programming language for all assignments in this course. Python is a great general-purpose programming language on its own, but with the help of a few popular libraries it becomes a powerful environment for scientific computing.\n",
        "\n",
        "Python is a high-level, dynamically typed multiparadigm programming language. Python code is often said to be almost like pseudocode, since it allows you to express very powerful ideas in very few lines of code while being very readable."
      ]
    },
    {
      "cell_type": "markdown",
      "metadata": {
        "id": "bXPvGzWPRp9i"
      },
      "source": [
        "### Basic data types\n",
        "\n",
        "Like most languages, Python has a number of basic types including integers, floats, booleans, and strings. These data types behave in ways that are familiar from other programming languages.\n",
        "\n",
        "Numbers: Integers and floats work as you would expect from other languages:"
      ]
    },
    {
      "cell_type": "code",
      "execution_count": null,
      "metadata": {
        "id": "bMS8oFvn4lzF"
      },
      "outputs": [],
      "source": [
        "x = 3\n",
        "print(type(x)) # Prints \"<class 'int'>\"\n",
        "print(x)       # Prints \"3\"\n",
        "print(x + 1)   # Addition; prints \"4\"\n",
        "print(x - 1)   # Subtraction; prints \"2\"\n",
        "print(x * 2)   # Multiplication; prints \"6\"\n",
        "print(x ** 2)  # Exponentiation; prints \"9\"\n",
        "x += 1\n",
        "print(x)  # Prints \"4\"\n",
        "x *= 2\n",
        "print(x)  # Prints \"8\"\n",
        "y = 2.5\n",
        "print(type(y)) # Prints \"<class 'float'>\"\n",
        "print(y, y + 1, y * 2, y ** 2) # Prints \"2.5 3.5 5.0 6.25\""
      ]
    },
    {
      "cell_type": "markdown",
      "metadata": {
        "id": "R3mRs3PcR86w"
      },
      "source": [
        "### Booleans\n",
        "Python implements all of the usual operators for Boolean logic, but uses English words rather than symbols (&&, ||, etc.):"
      ]
    },
    {
      "cell_type": "code",
      "execution_count": null,
      "metadata": {
        "id": "0t4NL3gBSOCh"
      },
      "outputs": [],
      "source": [
        "t = True\n",
        "f = False\n",
        "print(type(t)) # Prints \"<class 'bool'>\"\n",
        "print(t and f) # Logical AND; prints \"False\"\n",
        "print(t or f)  # Logical OR; prints \"True\"\n",
        "print(not t)   # Logical NOT; prints \"False\"\n",
        "print(t != f)  # Logical XOR; prints \"True\""
      ]
    },
    {
      "cell_type": "code",
      "execution_count": null,
      "metadata": {},
      "outputs": [],
      "source": [
        "grade = \"A\"\n",
        "if grade == \"A\":\n",
        "    print(\"Excellent\")\n",
        "elif grade == \"B\":\n",
        "    print(\"Good\")\n",
        "elif grade == \"C\":\n",
        "    print(\"OK\")\n",
        "else:\n",
        "    print(\"Fail\")"
      ]
    },
    {
      "cell_type": "markdown",
      "metadata": {
        "id": "JyT0RKkbSSD4"
      },
      "source": [
        "### Strings"
      ]
    },
    {
      "cell_type": "code",
      "execution_count": null,
      "metadata": {
        "id": "O7K8zMbPSUZ2"
      },
      "outputs": [],
      "source": [
        "hello = 'hello'    # String literals can use single quotes\n",
        "world = \"world\"    # or double quotes; it does not matter.\n",
        "print(hello)       # Prints \"hello\"\n",
        "print(len(hello))  # String length; prints \"5\"\n",
        "hw = hello + ' ' + world  # String concatenation\n",
        "print(hw)  # prints \"hello world\"\n",
        "hw12 = '%s %s %d' % (hello, world, 12)  # sprintf style string formatting\n",
        "print(hw12)  # prints \"hello world 12\""
      ]
    },
    {
      "cell_type": "markdown",
      "metadata": {
        "id": "IvQ0BogQSa0R"
      },
      "source": [
        "String objects have a bunch of useful methods; for example:"
      ]
    },
    {
      "cell_type": "code",
      "execution_count": null,
      "metadata": {
        "id": "Px7hgXTBSeVu"
      },
      "outputs": [],
      "source": [
        "s = \"hello\"\n",
        "print(s.capitalize())  # Capitalize a string; prints \"Hello\"\n",
        "print(s.upper())       # Convert a string to uppercase; prints \"HELLO\"\n",
        "print(s.rjust(7))      # Right-justify a string, padding with spaces; prints \"  hello\"\n",
        "print(s.center(7))     # Center a string, padding with spaces; prints \" hello \"\n",
        "print(s.replace('l', '(ell)'))  # Replace all instances of one substring with another;\n",
        "                                # prints \"he(ell)(ell)o\"\n",
        "print('  world '.strip())  # Strip leading and trailing whitespace; prints \"world\""
      ]
    },
    {
      "cell_type": "markdown",
      "metadata": {
        "id": "GP2Cgw_3ShS7"
      },
      "source": [
        "You can find a list of all string methods in the [documentation](https://docs.python.org/3.5/library/stdtypes.html#string-methods)."
      ]
    },
    {
      "cell_type": "markdown",
      "metadata": {
        "id": "mMI9ZyG5S1mU"
      },
      "source": [
        "### Containers\n",
        "Python includes several built-in container types: lists, dictionaries, sets, and tuples."
      ]
    },
    {
      "cell_type": "markdown",
      "metadata": {
        "id": "HYcYqIG5S9Av"
      },
      "source": [
        "### Lists\n",
        "A list is the Python equivalent of an array, but is resizeable and can contain elements of different types"
      ]
    },
    {
      "cell_type": "code",
      "execution_count": null,
      "metadata": {
        "id": "H-8AuIRfTD4c"
      },
      "outputs": [],
      "source": [
        "xs = [3, 1, 2]    # Create a list\n",
        "print(xs, xs[2])  # Prints \"[3, 1, 2] 2\"\n",
        "print(xs[-1])     # Negative indices count from the end of the list; prints \"2\"\n",
        "xs[2] = 'foo'     # Lists can contain elements of different types\n",
        "print(xs)         # Prints \"[3, 1, 'foo']\"\n",
        "xs.append('bar')  # Add a new element to the end of the list\n",
        "print(xs)         # Prints \"[3, 1, 'foo', 'bar']\"\n",
        "x = xs.pop()      # Remove and return the last element of the list\n",
        "print(x, xs)      # Prints \"bar [3, 1, 'foo']\""
      ]
    },
    {
      "cell_type": "markdown",
      "metadata": {
        "id": "_HJXv1hgUJpb"
      },
      "source": [
        "As usual, you can find all the gory details about lists in the [documentation](https://docs.python.org/3.5/tutorial/datastructures.html#more-on-lists)."
      ]
    },
    {
      "cell_type": "markdown",
      "metadata": {
        "id": "LlO41LWhTete"
      },
      "source": [
        "### Slicing\n",
        "In addition to accessing list elements one at a time, Python provides concise syntax to access sublists; this is known as slicing"
      ]
    },
    {
      "cell_type": "code",
      "execution_count": null,
      "metadata": {
        "id": "Ohor1jcNTjkB"
      },
      "outputs": [],
      "source": [
        "nums = list(range(5))     # range is a built-in function that creates a list of integers\n",
        "print(nums)               # Prints \"[0, 1, 2, 3, 4]\"\n",
        "print(nums[2:4])          # Get a slice from index 2 to 4 (exclusive); prints \"[2, 3]\"\n",
        "print(nums[2:])           # Get a slice from index 2 to the end; prints \"[2, 3, 4]\"\n",
        "print(nums[:2])           # Get a slice from the start to index 2 (exclusive); prints \"[0, 1]\"\n",
        "print(nums[:])            # Get a slice of the whole list; prints \"[0, 1, 2, 3, 4]\"\n",
        "print(nums[:-1])          # Slice indices can be negative; prints \"[0, 1, 2, 3]\"\n",
        "nums[2:4] = [8, 9]        # Assign a new sublist to a slice\n",
        "print(nums)               # Prints \"[0, 1, 8, 9, 4]\""
      ]
    },
    {
      "cell_type": "markdown",
      "metadata": {
        "id": "6Jgwfg-zTsYA"
      },
      "source": [
        "### Loops\n",
        "You can loop over the elements of a list like this:"
      ]
    },
    {
      "cell_type": "code",
      "execution_count": null,
      "metadata": {
        "id": "d-Cz-e8hTyKD"
      },
      "outputs": [],
      "source": [
        "animals = ['cat', 'dog', 'monkey']\n",
        "for animal in animals:\n",
        "    print(animal)\n",
        "# Prints \"cat\", \"dog\", \"monkey\", each on its own line."
      ]
    },
    {
      "cell_type": "markdown",
      "metadata": {
        "id": "SumSG2UtUPXz"
      },
      "source": [
        "If you want access to the index of each element within the body of a loop, use the built-in enumerate function:"
      ]
    },
    {
      "cell_type": "code",
      "execution_count": null,
      "metadata": {
        "id": "Iu6yjE00UW_k"
      },
      "outputs": [],
      "source": [
        "animals = ['cat', 'dog', 'monkey']\n",
        "for idx, animal in enumerate(animals):\n",
        "    print('#%d: %s' % (idx + 1, animal))\n",
        "# Prints \"#1: cat\", \"#2: dog\", \"#3: monkey\", each on its own line\n"
      ]
    },
    {
      "cell_type": "markdown",
      "metadata": {
        "id": "nfie8fX3Uq-R"
      },
      "source": [
        "### List Comprehension\n",
        "When programming, frequently we want to transform one type of data into another. As a simple example, consider the following code that computes square numbers:"
      ]
    },
    {
      "cell_type": "code",
      "execution_count": null,
      "metadata": {
        "id": "Q50-nzsHUyAi"
      },
      "outputs": [],
      "source": [
        "nums = [0, 1, 2, 3, 4]\n",
        "squares = []\n",
        "for x in nums:\n",
        "    squares.append(x ** 2)\n",
        "print(squares)   # Prints [0, 1, 4, 9, 16]"
      ]
    },
    {
      "cell_type": "markdown",
      "metadata": {
        "id": "nFFqOdBiU1nM"
      },
      "source": [
        "You can make this code simpler using a list comprehension:"
      ]
    },
    {
      "cell_type": "code",
      "execution_count": null,
      "metadata": {
        "id": "gfVifbBKU4kQ"
      },
      "outputs": [],
      "source": [
        "nums = [0, 1, 2, 3, 4]\n",
        "squares = [x ** 2 for x in nums]\n",
        "print(squares)   # Prints [0, 1, 4, 9, 16]"
      ]
    },
    {
      "cell_type": "markdown",
      "metadata": {
        "id": "i10d1RrTU-kM"
      },
      "source": [
        "### Dictionaries\n",
        "\n",
        "A dictionary stores (key, value) pairs. You can use it like this:"
      ]
    },
    {
      "cell_type": "code",
      "execution_count": null,
      "metadata": {
        "id": "WYgXQLDDVL82"
      },
      "outputs": [],
      "source": [
        "d = {'cat': 'cute', 'dog': 'furry'}  # Create a new dictionary with some data\n",
        "print(d['cat'])       # Get an entry from a dictionary; prints \"cute\"\n",
        "print('cat' in d)     # Check if a dictionary has a given key; prints \"True\" \n",
        "d['fish'] = 'wet'     # Set an entry in a dictionary\n",
        "print(d['fish'])      # Prints \"wet\"\n",
        "# print(d['monkey'])  # KeyError: 'monkey' not a key of d\n",
        "print(d.get('monkey', 'N/A'))  # Get an element with a default; prints \"N/A\"\n",
        "print(d.get('fish', 'N/A'))    # Get an element with a default; prints \"wet\"\n",
        "del d['fish']         # Remove an element from a dictionary\n",
        "print(d.get('fish', 'N/A')) # \"fish\" is no longer a key; prints \"N/A\""
      ]
    },
    {
      "cell_type": "markdown",
      "metadata": {
        "id": "koK0tR_SVPfs"
      },
      "source": [
        "You can find all you need to know about dictionaries in the [documentation](https://docs.python.org/3.5/library/stdtypes.html#dict)."
      ]
    },
    {
      "cell_type": "markdown",
      "metadata": {
        "id": "MjvXRCOrVuX8"
      },
      "source": [
        "Loops: It is easy to iterate over the keys in a dictionary:"
      ]
    },
    {
      "cell_type": "code",
      "execution_count": null,
      "metadata": {
        "id": "4PgLKP_mVvxB"
      },
      "outputs": [],
      "source": [
        "d = {'person': 2, 'cat': 4, 'spider': 8}\n",
        "for animal in d:\n",
        "    legs = d[animal]\n",
        "    print('A %s has %d legs' % (animal, legs))\n",
        "# Prints \"A person has 2 legs\", \"A cat has 4 legs\", \"A spider has 8 legs\""
      ]
    },
    {
      "cell_type": "markdown",
      "metadata": {
        "id": "AOppaSEOVzjS"
      },
      "source": [
        "If you want access to keys and their corresponding values, use the items method:"
      ]
    },
    {
      "cell_type": "code",
      "execution_count": null,
      "metadata": {
        "id": "wd552qPZV1tv"
      },
      "outputs": [],
      "source": [
        "d = {'person': 2, 'cat': 4, 'spider': 8}\n",
        "for animal, legs in d.items():\n",
        "    print('A %s has %d legs' % (animal, legs))\n",
        "# Prints \"A person has 2 legs\", \"A cat has 4 legs\", \"A spider has 8 legs\""
      ]
    },
    {
      "cell_type": "markdown",
      "metadata": {
        "id": "AOCQNerjV5F-"
      },
      "source": [
        "Dictionary comprehensions: These are similar to list comprehensions, but allow you to easily construct dictionaries. For example:"
      ]
    },
    {
      "cell_type": "code",
      "execution_count": null,
      "metadata": {
        "id": "n4acOClNV73T"
      },
      "outputs": [],
      "source": [
        "nums = [0, 1, 2, 3, 4]\n",
        "even_num_to_square = {x: x ** 2 for x in nums if x % 2 == 0}\n",
        "print(even_num_to_square)  # Prints \"{0: 0, 2: 4, 4: 16}\""
      ]
    },
    {
      "cell_type": "markdown",
      "metadata": {
        "id": "fTR_eqBvWBnt"
      },
      "source": [
        "### Sets\n",
        "A set is an unordered collection of distinct elements. As a simple example, consider the following:\n"
      ]
    },
    {
      "cell_type": "code",
      "execution_count": null,
      "metadata": {
        "id": "tKGHJP9CWHO6"
      },
      "outputs": [],
      "source": [
        "animals = {'cat', 'dog'}\n",
        "print('cat' in animals)   # Check if an element is in a set; prints \"True\"\n",
        "print('fish' in animals)  # prints \"False\"\n",
        "animals.add('fish')       # Add an element to a set\n",
        "print('fish' in animals)  # Prints \"True\"\n",
        "print(len(animals))       # Number of elements in a set; prints \"3\"\n",
        "animals.add('cat')        # Adding an element that is already in the set does nothing\n",
        "print(len(animals))       # Prints \"3\"\n",
        "animals.remove('cat')     # Remove an element from a set\n",
        "print(len(animals))       # Prints \"2\"\n"
      ]
    },
    {
      "cell_type": "markdown",
      "metadata": {
        "id": "sjdSvUSeWIV9"
      },
      "source": [
        "As usual, everything you want to know about sets can be found in the [documentation](https://docs.python.org/3.5/library/stdtypes.html#set)"
      ]
    },
    {
      "cell_type": "markdown",
      "metadata": {
        "id": "c5bRQZUxWUwe"
      },
      "source": [
        "### Tuples\n",
        "\n",
        "A tuple is an (immutable) ordered list of values. A tuple is in many ways similar to a list; one of the most important differences is that tuples can be used as keys in dictionaries and as elements of sets, while lists cannot. Here is a trivial example:"
      ]
    },
    {
      "cell_type": "code",
      "execution_count": null,
      "metadata": {
        "id": "po1lT36eWXZ_"
      },
      "outputs": [],
      "source": [
        "d = {(x, x + 1): x for x in range(10)}  # Create a dictionary with tuple keys\n",
        "t = (5, 6)        # Create a tuple\n",
        "print(type(t))    # Prints \"<class 'tuple'>\"\n",
        "print(d[t])       # Prints \"5\"\n",
        "print(d[(1, 2)])  # Prints \"1\""
      ]
    },
    {
      "cell_type": "markdown",
      "metadata": {
        "id": "L6d5xL7fWd3P"
      },
      "source": [
        "### Functions\n",
        "\n",
        "Python functions are defined using the def keyword. For example:\n"
      ]
    },
    {
      "cell_type": "code",
      "execution_count": 2,
      "metadata": {
        "colab": {
          "base_uri": "https://localhost:8080/"
        },
        "id": "JAbJ72QcW4Vj",
        "outputId": "80fa0ffb-4697-4da9-f351-613c91bbf3d6"
      },
      "outputs": [
        {
          "name": "stdout",
          "output_type": "stream",
          "text": [
            "negative\n",
            "zero\n",
            "positive\n"
          ]
        }
      ],
      "source": [
        "def sign(x):\n",
        "    if x > 0:\n",
        "        return 'positive'\n",
        "    elif x < 0:\n",
        "        return 'negative'\n",
        "    else:\n",
        "        return 'zero'\n",
        "\n",
        "for x in [-1, 0, 1]:\n",
        "    print(sign(x))\n",
        "# Prints \"negative\", \"zero\", \"positive\""
      ]
    },
    {
      "cell_type": "markdown",
      "metadata": {
        "id": "p3Wl51nIW5qp"
      },
      "source": [
        "We will often define functions to take optional keyword arguments, like this:"
      ]
    },
    {
      "cell_type": "code",
      "execution_count": null,
      "metadata": {
        "id": "q4pzqHDQW--f"
      },
      "outputs": [],
      "source": [
        "def hello(name, loud=False):\n",
        "    if loud:\n",
        "        print('HELLO, %s!' % name.upper())\n",
        "    else:\n",
        "        print('Hello, %s' % name)\n",
        "\n",
        "hello('Bob') # Prints \"Hello, Bob\"\n",
        "hello('Fred', loud=True)  # Prints \"HELLO, FRED!\""
      ]
    },
    {
      "cell_type": "markdown",
      "metadata": {
        "id": "nftYunUNXFhD"
      },
      "source": [
        "There is a lot more information about Python functions in the [documentation](https://docs.python.org/3.5/tutorial/controlflow.html#defining-functions)."
      ]
    },
    {
      "cell_type": "markdown",
      "metadata": {
        "id": "dzTFU9jjXSEb"
      },
      "source": [
        "### Classes\n",
        "The syntax for defining classes in Python is straightforward:"
      ]
    },
    {
      "cell_type": "code",
      "execution_count": null,
      "metadata": {
        "id": "p2xt8RYPXRNB"
      },
      "outputs": [],
      "source": [
        "class Greeter(object):\n",
        "\n",
        "    # Constructor\n",
        "    def __init__(self, name):\n",
        "        self.name = name  # Create an instance variable\n",
        "\n",
        "    # Instance method\n",
        "    def greet(self, loud=False):\n",
        "        if loud:\n",
        "            print('HELLO, %s!' % self.name.upper())\n",
        "        else:\n",
        "            print('Hello, %s' % self.name)\n",
        "\n",
        "g = Greeter('Fred')  # Construct an instance of the Greeter class\n",
        "g.greet()            # Call an instance method; prints \"Hello, Fred\"\n",
        "g.greet(loud=True)   # Call an instance method; prints \"HELLO, FRED!\"\n"
      ]
    },
    {
      "cell_type": "markdown",
      "metadata": {
        "id": "6l_tFR9kXbew"
      },
      "source": [
        "You can read a lot more about Python classes in the [documentation](https://docs.python.org/3.5/tutorial/classes.html)."
      ]
    },
    {
      "cell_type": "markdown",
      "metadata": {
        "id": "4v9QWpXO8BpR"
      },
      "source": [
        "Finally, to wrap python basics, it is almost mandatory for all Python users to go over the 19 aphorisms that Tim Peters wrote, hiding the last one (for reasons unknown). Execute the following code:"
      ]
    },
    {
      "cell_type": "code",
      "execution_count": null,
      "metadata": {
        "id": "EUnxrUY08YQp"
      },
      "outputs": [],
      "source": [
        "import this"
      ]
    },
    {
      "cell_type": "markdown",
      "metadata": {
        "id": "DjTGmpwh4qTN"
      },
      "source": [
        "# Numpy\n",
        "\n",
        "### The soul of every single data related field of Computer Science\n",
        "\n",
        "Numpy is the core library for scientific computing in Python. Essentially, all advanced AI requires heavy matrix manipulations, and as these manipulations are done through arrays, Numpy helps with the performance *immensely* "
      ]
    },
    {
      "cell_type": "markdown",
      "metadata": {
        "id": "38-_7Ye43sk0"
      },
      "source": [
        "If you haven't installed Numpy yet, try either of these two lines of code in your terminal:\n",
        "* pip install numpy\n",
        "* pip3 install numpy (MacOs)\n",
        "\n",
        "Restart your editor, and you should be good to go\n",
        "\n",
        "To start using Numpy, the golden line is given below:"
      ]
    },
    {
      "cell_type": "code",
      "execution_count": null,
      "metadata": {
        "id": "E785Dbev3umf"
      },
      "outputs": [],
      "source": [
        "import numpy as np"
      ]
    },
    {
      "cell_type": "markdown",
      "metadata": {
        "id": "ZJTZH8w93xzd"
      },
      "source": [
        "### Numpy Arrays\n",
        "\n",
        "These are just a grid of values, same type, indexed by a tuple of non-negative integers\n",
        "\n",
        "We define the number of dimensions are the *rank* and the size of array along each of the dimension as the *shape*\n",
        "\n",
        "We can initialize numpy arrays from nested Python lists, and access elements using square brackets:"
      ]
    },
    {
      "cell_type": "code",
      "execution_count": null,
      "metadata": {
        "id": "QCzxNUOc39AZ"
      },
      "outputs": [],
      "source": [
        "a = np.array([1, 2, 3])   # Create a rank 1 array\n",
        "print(type(a))            # Prints \"<class 'numpy.ndarray'>\"\n",
        "print(a.shape)            # Prints \"(3,)\"\n",
        "print(a[0], a[1], a[2])   # Prints \"1 2 3\"\n",
        "a[0] = 5                  # Change an element of the array\n",
        "print(a)                  # Prints \"[5, 2, 3]\"\n",
        "\n",
        "b = np.array([[1,2,3],[4,5,6]])    # Create a rank 2 array\n",
        "print(b.shape)                     # Prints \"(2, 3)\"\n",
        "print(b[0, 0], b[0, 1], b[1, 0])   # Prints \"1 2 4\""
      ]
    },
    {
      "cell_type": "markdown",
      "metadata": {
        "id": "AoYpyWYD4CI8"
      },
      "source": [
        "We can create Numpy arrays in many ways, some given below:"
      ]
    },
    {
      "cell_type": "code",
      "execution_count": null,
      "metadata": {
        "id": "AmSOvly34Beo"
      },
      "outputs": [],
      "source": [
        "a = np.zeros((2,2))   # Create an array of all zeros\n",
        "print(a)              # Prints \"[[ 0.  0.]\n",
        "                      #          [ 0.  0.]]\"\n",
        "\n",
        "b = np.ones((1,2))    # Create an array of all ones\n",
        "print(b)              # Prints \"[[ 1.  1.]]\"\n",
        "\n",
        "c = np.full((2,2), 7)  # Create a constant array\n",
        "print(c)               # Prints \"[[ 7.  7.]\n",
        "                       #          [ 7.  7.]]\"\n",
        "\n",
        "d = np.eye(2)         # Create a 2x2 identity matrix\n",
        "print(d)              # Prints \"[[ 1.  0.]\n",
        "                      #          [ 0.  1.]]\"\n",
        "\n",
        "e = np.random.random((2,2))  # Create an array filled with random values\n",
        "print(e)                     # Could print anything. Suprise yourself"
      ]
    },
    {
      "cell_type": "markdown",
      "metadata": {
        "id": "fiG8pSdt4Uum"
      },
      "source": [
        "#### Array Indexing\n",
        "\n",
        "Numpy offers several ways to index into arrays.\n"
      ]
    },
    {
      "cell_type": "code",
      "execution_count": null,
      "metadata": {
        "id": "jdGMtbPw4qzG"
      },
      "outputs": [],
      "source": [
        "# Create the following rank 2 array with shape (3, 4)\n",
        "# [[ 1  2  3  4]\n",
        "#  [ 5  6  7  8]\n",
        "#  [ 9 10 11 12]]\n",
        "a = np.array([[1,2,3,4], [5,6,7,8], [9,10,11,12]])\n",
        "\n",
        "# Use slicing to pull out the subarray consisting of the first 2 rows\n",
        "# and columns 1 and 2; b is the following array of shape (2, 2):\n",
        "# [[2 3]\n",
        "#  [6 7]]\n",
        "b = a[:2, 1:3]\n",
        "\n",
        "# A slice of an array is a view into the same data, so modifying it\n",
        "# will modify the original array.\n",
        "print(a[0, 1])   # Prints \"2\"\n",
        "b[0, 0] = 77     # b[0, 0] is the same piece of data as a[0, 1]\n",
        "print(a[0, 1])   # Prints \"77\""
      ]
    },
    {
      "cell_type": "code",
      "execution_count": null,
      "metadata": {
        "id": "VnVTm5St4zg6"
      },
      "outputs": [],
      "source": [
        "# Create the following rank 2 array with shape (3, 4)\n",
        "# [[ 1  2  3  4]\n",
        "#  [ 5  6  7  8]\n",
        "#  [ 9 10 11 12]]\n",
        "a = np.array([[1,2,3,4], [5,6,7,8], [9,10,11,12]])\n",
        "\n",
        "# Two ways of accessing the data in the middle row of the array.\n",
        "# Mixing integer indexing with slices yields an array of lower rank,\n",
        "# while using only slices yields an array of the same rank as the\n",
        "# original array:\n",
        "row_r1 = a[1, :]    # Rank 1 view of the second row of a\n",
        "row_r2 = a[1:2, :]  # Rank 2 view of the second row of a\n",
        "print(row_r1, row_r1.shape)  # Prints \"[5 6 7 8] (4,)\"\n",
        "print(row_r2, row_r2.shape)  # Prints \"[[5 6 7 8]] (1, 4)\"\n",
        "\n",
        "# We can make the same distinction when accessing columns of an array:\n",
        "col_r1 = a[:, 1]\n",
        "col_r2 = a[:, 1:2]\n",
        "print(col_r1, col_r1.shape)  # Prints \"[ 2  6 10] (3,)\"\n",
        "print(col_r2, col_r2.shape)  # Prints \"[[ 2]\n",
        "                             #          [ 6]\n",
        "                             #          [10]] (3, 1)\""
      ]
    },
    {
      "cell_type": "markdown",
      "metadata": {
        "id": "MDSRORVk40gr"
      },
      "source": [
        "One useful trick with integer array indexing is selecting or mutating one element from each row of a matrix:"
      ]
    },
    {
      "cell_type": "code",
      "execution_count": null,
      "metadata": {
        "id": "RNFHalmi43m4"
      },
      "outputs": [],
      "source": [
        "# Create a new array from which we will select elements\n",
        "a = np.array([[1,2,3], [4,5,6], [7,8,9], [10, 11, 12]])\n",
        "\n",
        "print(a)  # prints \"array([[ 1,  2,  3],\n",
        "          #                [ 4,  5,  6],\n",
        "          #                [ 7,  8,  9],\n",
        "          #                [10, 11, 12]])\"\n",
        "\n",
        "# Create an array of indices\n",
        "b = np.array([0, 2, 0, 1])\n",
        "\n",
        "# Select one element from each row of a using the indices in b\n",
        "print(a[np.arange(4), b])  # Prints \"[ 1  6  7 11]\"\n",
        "\n",
        "# Mutate one element from each row of a using the indices in b\n",
        "a[np.arange(4), b] += 10\n",
        "\n",
        "print(a)  # prints \"array([[11,  2,  3],\n",
        "          #                [ 4,  5, 16],\n",
        "          #                [17,  8,  9],\n",
        "          #                [10, 21, 12]])\n"
      ]
    },
    {
      "cell_type": "markdown",
      "metadata": {
        "id": "6rfHTb__46G4"
      },
      "source": [
        "#### Datatypes\n",
        "\n",
        "A subtle introduction to Numpy datatypes is given below. Maintaining knowledge of how datatypes work in Numpy is important to understand what you're working with, and how we you can force changes (as necessary)"
      ]
    },
    {
      "cell_type": "code",
      "execution_count": null,
      "metadata": {
        "id": "q6B64uF05VhB"
      },
      "outputs": [],
      "source": [
        "x = np.array([1, 2])   # Let numpy choose the datatype\n",
        "print(x.dtype)         # Prints \"int64\"\n",
        "\n",
        "x = np.array([1.0, 2.0])   # Let numpy choose the datatype\n",
        "print(x.dtype)             # Prints \"float64\"\n",
        "\n",
        "x = np.array([1, 2], dtype=np.int64)   # Force a particular datatype\n",
        "print(x.dtype) "
      ]
    },
    {
      "cell_type": "markdown",
      "metadata": {
        "id": "IsvqMkxt5XZv"
      },
      "source": [
        "#### Array math\n",
        "\n",
        "Basic mathematical functions operate elementwise on arrays, and are available both as operator overloads and as functions in the numpy module:"
      ]
    },
    {
      "cell_type": "code",
      "execution_count": null,
      "metadata": {
        "id": "wq9iwDlA5cAq"
      },
      "outputs": [],
      "source": [
        "x = np.array([[1,2],[3,4]], dtype=np.float64)\n",
        "y = np.array([[5,6],[7,8]], dtype=np.float64)\n",
        "\n",
        "# Elementwise sum; both produce the array\n",
        "# [[ 6.0  8.0]\n",
        "#  [10.0 12.0]]\n",
        "print(x + y)\n",
        "print(np.add(x, y))\n",
        "\n",
        "# Elementwise difference; both produce the array\n",
        "# [[-4.0 -4.0]\n",
        "#  [-4.0 -4.0]]\n",
        "print(x - y)\n",
        "print(np.subtract(x, y))\n",
        "\n",
        "# Elementwise product; both produce the array\n",
        "# [[ 5.0 12.0]\n",
        "#  [21.0 32.0]]\n",
        "print(x * y)\n",
        "print(np.multiply(x, y))\n",
        "\n",
        "# Elementwise division; both produce the array\n",
        "# [[ 0.2         0.33333333]\n",
        "#  [ 0.42857143  0.5       ]]\n",
        "print(x / y)\n",
        "print(np.divide(x, y))\n",
        "\n",
        "# Elementwise square root; produces the array\n",
        "# [[ 1.          1.41421356]\n",
        "#  [ 1.73205081  2.        ]]\n",
        "print(np.sqrt(x))"
      ]
    },
    {
      "cell_type": "markdown",
      "metadata": {
        "id": "Iev6jbaz5hTc"
      },
      "source": [
        "One of the more useful functions for performing computations on arrays is the *sum* function:"
      ]
    },
    {
      "cell_type": "code",
      "execution_count": null,
      "metadata": {
        "id": "MI3p7Aj85g_6"
      },
      "outputs": [],
      "source": [
        "x = np.array([[1,2],[3,4]])\n",
        "\n",
        "print(np.sum(x))  # Compute sum of all elements; prints \"10\"\n",
        "print(np.sum(x, axis=0))  # Compute sum of each column; prints \"[4 6]\"\n",
        "print(np.sum(x, axis=1))  # Compute sum of each row; prints \"[3 7]\""
      ]
    },
    {
      "cell_type": "markdown",
      "metadata": {
        "id": "RlSzUs9853By"
      },
      "source": [
        "#### Broadcasting\n",
        "Broadcasting is a powerful mechanism that allows numpy to work with arrays of different shapes when performing arithmetic operations. Frequently we have a smaller array and a larger array, and we want to use the smaller array multiple times to perform some operation on the larger array."
      ]
    },
    {
      "cell_type": "markdown",
      "metadata": {
        "id": "fhdKD8rf6K60"
      },
      "source": [
        "Numpy broadcasting allows us to express the power of manipulation stated above. Consider this broadcasting:"
      ]
    },
    {
      "cell_type": "code",
      "execution_count": null,
      "metadata": {
        "id": "rnLZK33z6MN4"
      },
      "outputs": [],
      "source": [
        "# We will add the vector v to each row of the matrix x,\n",
        "# storing the result in the matrix y\n",
        "x = np.array([[1,2,3], [4,5,6], [7,8,9], [10, 11, 12]])\n",
        "v = np.array([1, 0, 1])\n",
        "y = x + v  # Add v to each row of x using broadcasting\n",
        "print(y)  # Prints \"[[ 2  2  4]\n",
        "          #          [ 5  5  7]\n",
        "          #          [ 8  8 10]\n",
        "          #          [11 11 13]]\""
      ]
    },
    {
      "cell_type": "markdown",
      "metadata": {
        "id": "KhBfeYSd6sgi"
      },
      "source": [
        "The line y = x + v works even though x has shape (4, 3) and v has shape (3,) due to broadcasting; this line works as if v actually had shape (4, 3), where each row was a copy of v, and the sum was performed elementwise."
      ]
    },
    {
      "cell_type": "markdown",
      "metadata": {
        "id": "yYMCGDgJ6y17"
      },
      "source": [
        "Here are some general applications of broadcasting:"
      ]
    },
    {
      "cell_type": "code",
      "execution_count": null,
      "metadata": {
        "id": "IpmiNd--63xl"
      },
      "outputs": [],
      "source": [
        "# Compute outer product of vectors\n",
        "v = np.array([1,2,3])  # v has shape (3,)\n",
        "w = np.array([4,5])    # w has shape (2,)\n",
        "# To compute an outer product, we first reshape v to be a column\n",
        "# vector of shape (3, 1); we can then broadcast it against w to yield\n",
        "# an output of shape (3, 2), which is the outer product of v and w:\n",
        "# [[ 4  5]\n",
        "#  [ 8 10]\n",
        "#  [12 15]]\n",
        "print(np.reshape(v, (3, 1)) * w)\n",
        "\n",
        "# Add a vector to each row of a matrix\n",
        "x = np.array([[1,2,3], [4,5,6]])\n",
        "# x has shape (2, 3) and v has shape (3,) so they broadcast to (2, 3),\n",
        "# giving the following matrix:\n",
        "# [[2 4 6]\n",
        "#  [5 7 9]]\n",
        "print(x + v)\n",
        "\n",
        "# Add a vector to each column of a matrix\n",
        "# x has shape (2, 3) and w has shape (2,).\n",
        "# If we transpose x then it has shape (3, 2) and can be broadcast\n",
        "# against w to yield a result of shape (3, 2); transposing this result\n",
        "# yields the final result of shape (2, 3) which is the matrix x with\n",
        "# the vector w added to each column. Gives the following matrix:\n",
        "# [[ 5  6  7]\n",
        "#  [ 9 10 11]]\n",
        "print((x.T + w).T)\n",
        "# Another solution is to reshape w to be a column vector of shape (2, 1);\n",
        "# we can then broadcast it directly against x to produce the same\n",
        "# output.\n",
        "print(x + np.reshape(w, (2, 1)))\n",
        "\n",
        "# Multiply a matrix by a constant:\n",
        "# x has shape (2, 3). Numpy treats scalars as arrays of shape ();\n",
        "# these can be broadcast together to shape (2, 3), producing the\n",
        "# following array:\n",
        "# [[ 2  4  6]\n",
        "#  [ 8 10 12]]\n",
        "print(x * 2)"
      ]
    },
    {
      "cell_type": "markdown",
      "metadata": {
        "id": "e3aNdSVt5dMG"
      },
      "source": [
        "# Matplotlib\n",
        "\n",
        "[Matplotlib](https://matplotlib.org/) is a plotting library. In this section give a brief introduction to the `matplotlib.pyplot` module, which provides a plotting system similar to that of MATLAB."
      ]
    },
    {
      "cell_type": "code",
      "execution_count": null,
      "metadata": {
        "id": "cx6tULMHAAlZ"
      },
      "outputs": [],
      "source": [
        "import matplotlib.pyplot as plt"
      ]
    },
    {
      "cell_type": "markdown",
      "metadata": {
        "id": "RxHJ-XiBASyh"
      },
      "source": [
        "### Plotting\n",
        "\n",
        "The most important function in matplotlib is plot, which allows you to plot 2D data. Here is a simple example:"
      ]
    },
    {
      "cell_type": "code",
      "execution_count": null,
      "metadata": {
        "id": "j1JWiIC5AqxD"
      },
      "outputs": [],
      "source": [
        "import numpy as np\n",
        "import matplotlib.pyplot as plt\n",
        "\n",
        "# Compute the x and y coordinates for points on a sine curve\n",
        "x = np.arange(0, 3 * np.pi, 0.1)\n",
        "y = np.sin(x)\n",
        "\n",
        "# Plot the points using matplotlib\n",
        "plt.plot(x, y)\n",
        "plt.show()  # You must call plt.show() to make graphics appear."
      ]
    },
    {
      "cell_type": "markdown",
      "metadata": {
        "id": "GpPoOfEaA13p"
      },
      "source": [
        "With just a little bit of extra work we can easily plot multiple lines at once, and add a title, legend, and axis labels:"
      ]
    },
    {
      "cell_type": "code",
      "execution_count": null,
      "metadata": {
        "id": "UrAYNjtmA20U"
      },
      "outputs": [],
      "source": [
        "import numpy as np\n",
        "import matplotlib.pyplot as plt\n",
        "\n",
        "# Compute the x and y coordinates for points on sine and cosine curves\n",
        "x = np.arange(0, 3 * np.pi, 0.1)\n",
        "y_sin = np.sin(x)\n",
        "y_cos = np.cos(x)\n",
        "\n",
        "# Plot the points using matplotlib\n",
        "plt.plot(x, y_sin)\n",
        "plt.plot(x, y_cos)\n",
        "plt.xlabel('x axis label')\n",
        "plt.ylabel('y axis label')\n",
        "plt.title('Sine and Cosine')\n",
        "plt.legend(['Sine', 'Cosine'])\n",
        "plt.show()"
      ]
    },
    {
      "cell_type": "markdown",
      "metadata": {
        "id": "CU-rgvsOBk1Z"
      },
      "source": [
        "You can read much more about the plot function in the [documentation](https://matplotlib.org/2.0.2/api/pyplot_api.html)."
      ]
    },
    {
      "cell_type": "markdown",
      "metadata": {
        "id": "B5_EkrfgBN3n"
      },
      "source": [
        "### Subplots\n",
        "\n",
        "You can plot different things in the same figure using the subplot function. Here is an example:"
      ]
    },
    {
      "cell_type": "code",
      "execution_count": null,
      "metadata": {
        "id": "nUlwvFNbBRx3"
      },
      "outputs": [],
      "source": [
        "import numpy as np\n",
        "import matplotlib.pyplot as plt\n",
        "\n",
        "# Compute the x and y coordinates for points on sine and cosine curves\n",
        "x = np.arange(0, 3 * np.pi, 0.1)\n",
        "y_sin = np.sin(x)\n",
        "y_cos = np.cos(x)\n",
        "\n",
        "# Set up a subplot grid that has height 2 and width 1,\n",
        "# and set the first such subplot as active.\n",
        "plt.subplot(2, 1, 1)\n",
        "\n",
        "# Make the first plot\n",
        "plt.plot(x, y_sin)\n",
        "plt.title('Sine')\n",
        "\n",
        "# Set the second subplot as active, and make the second plot.\n",
        "plt.subplot(2, 1, 2)\n",
        "plt.plot(x, y_cos)\n",
        "plt.title('Cosine')\n",
        "\n",
        "# Show the figure.\n",
        "plt.show()"
      ]
    },
    {
      "attachments": {},
      "cell_type": "markdown",
      "metadata": {},
      "source": [
        "### Plotting Image"
      ]
    },
    {
      "cell_type": "code",
      "execution_count": null,
      "metadata": {},
      "outputs": [],
      "source": [
        "import numpy as np\n",
        "import cv2\n",
        "import matplotlib.pyplot as plt\n",
        "\n",
        "img = cv2.imread('./sample_img.png',0) # load grayscale image(0,255). Shape (475,475)\n",
        "\n",
        "plt.imshow(img)\n",
        "plt.show()"
      ]
    },
    {
      "cell_type": "markdown",
      "metadata": {
        "id": "ITRviY7CBMXt"
      },
      "source": [
        "You can read much more about the subplot function in the [documentation](https://matplotlib.org/2.0.2/api/pyplot_api.html)."
      ]
    },
    {
      "cell_type": "markdown",
      "metadata": {
        "id": "rF4VTSDgB6y_"
      },
      "source": [
        "<br>\n",
        "<h1> <center><b>Questions Section</b></center> </h1>\n",
        "<br>"
      ]
    },
    {
      "cell_type": "markdown",
      "metadata": {
        "id": "D_XA77OK522C"
      },
      "source": [
        "# **Python Basic Questions**\n",
        "Use of any external libraries is not allowed in python basic questions section until explicitly mentioned or imported in skeleton code."
      ]
    },
    {
      "attachments": {},
      "cell_type": "markdown",
      "metadata": {
        "id": "2hNb5de2Hyx1"
      },
      "source": [
        "#### Q 1) \n",
        "#### If the length of the list is greater than 5: Print all elements at even indices whose values are greater than the mean of the list.\n",
        "\n",
        "#### If the length of the list is 5 or less: Print all elements at odd indices whose values are less than the mean of the list. [Python List]"
      ]
    },
    {
      "cell_type": "code",
      "execution_count": null,
      "metadata": {
        "id": "JZrX9RoiH4AS"
      },
      "outputs": [],
      "source": [
        "def process_list(lst):\n",
        "    # code here\n",
        "    return\n",
        "\n",
        "print(\"Test Case 1:\")\n",
        "process_list([10, 5, 20, 15, 30, 25, 40])\n",
        "print(\"Expected output: [30,40]\")\n",
        "\n",
        "print(\"\\nTest Case 2:\")\n",
        "process_list([1, 3, 5, 7])\n",
        "print(\"Expected output: [3]\")"
      ]
    },
    {
      "attachments": {},
      "cell_type": "markdown",
      "metadata": {
        "id": "AQEjA_7rH-6L"
      },
      "source": [
        "#### Q 2) Create a program that takes in a list of integers and removes all duplicate elements from the list. Then, sort the list in ascending order and print the final list. Do not use any built-in Python functions or libraries for removing duplicates or sorting the list. [Python List]"
      ]
    },
    {
      "cell_type": "code",
      "execution_count": null,
      "metadata": {
        "id": "7ILMdu8KIDbB"
      },
      "outputs": [],
      "source": [
        "def process_list(lst):\n",
        "    # code here\n",
        "    return\n",
        "\n",
        "print(\"Test Case 1:\")\n",
        "process_list([10, 5, 20, 15, 30, 25, 40, 5, 20])\n",
        "print(\"Expected output: [5, 10, 15, 20, 25, 30, 40]\")\n",
        "\n",
        "print(\"\\nTest Case 2:\")\n",
        "process_list([1, 3, 5, 7, 3, 1])\n",
        "print(\"Expected output: [1, 3, 5, 7]\")\n",
        "\n",
        "print(\"\\nTest Case 3:\")\n",
        "process_list([100, 50, 100, 25, 50, 10])\n",
        "print(\"Expected output: [10, 25, 50, 100]\")\n",
        "\n",
        "print(\"\\nTest Case 4:\")\n",
        "process_list([])\n",
        "print(\"Expected output: []\")\n",
        "\n",
        "print(\"\\nTest Case 5:\")\n",
        "process_list([2, 2, 2, 2])\n",
        "print(\"Expected output: [2]\")"
      ]
    },
    {
      "attachments": {},
      "cell_type": "markdown",
      "metadata": {
        "id": "Q--ReyeKFkiV"
      },
      "source": [
        "#### Q 3) Write a function that finds derivative of activation (a) wrt to weight (w) and bias (b) for a given input (x) and activation (a) using the formulae given below. The function should return the derivative of cost wrt to weight and bias. The function should work for any number of training examples. [Python Math]\n",
        "\n",
        "$$\n",
        "    a = \\frac{1}{1+e^-z}\n",
        "$$\n",
        "<br>\n",
        "\n",
        "$$\n",
        "    z = w.x + b\n",
        "$$\n",
        "<br>\n",
        "\n",
        "$$\n",
        " x,a \\in R\n",
        "$$"
      ]
    },
    {
      "cell_type": "code",
      "execution_count": null,
      "metadata": {
        "id": "ClIjgHy7Fzet"
      },
      "outputs": [],
      "source": [
        "import math\n",
        "\n",
        "def derivative(x, a):\n",
        "    # code here\n",
        "    return dw, db\n",
        "\n",
        "# Test Case 1: Simple input and output\n",
        "x = [0.5, 1.5, 2.0]\n",
        "a = [0.6, 0.8, 0.9]\n",
        "\n",
        "print(\"Test Case 1:\")\n",
        "dw, db = derivative(x, a)\n",
        "print(\"Expected dw: 0.180\")\n",
        "print(\"dw:\", dw)\n",
        "print(\"Expected db: \", 0.163)\n",
        "print(\"db:\", db)\n",
        "\n",
        "# Test Case 2: All inputs are zero\n",
        "x = [0, 0, 0]\n",
        "a = [0.5, 0.5, 0.5]\n",
        "\n",
        "print(\"\\nTest Case 2:\")\n",
        "dw, db = derivative(x, a)\n",
        "dw, db = derivative(x, a)\n",
        "print(\"Expected dw: \", 0.0)\n",
        "print(\"dw:\", dw)\n",
        "print(\"Expected db: \", 0.25)\n",
        "print(\"db:\", db)\n",
        "\n",
        "# Test Case 3: Single training example\n",
        "x = [1.0]\n",
        "a = [0.7]\n",
        "\n",
        "print(\"\\nTest Case 3:\")\n",
        "dw, db = derivative(x, a)\n",
        "dw, db = derivative(x, a)\n",
        "print(\"Expected dw: 0.210\")\n",
        "print(\"dw:\", dw)\n",
        "print(\"Expected db: 0.210\")\n",
        "print(\"db:\", db)"
      ]
    },
    {
      "attachments": {},
      "cell_type": "markdown",
      "metadata": {
        "id": "CU_sZG8oF06T"
      },
      "source": [
        "#### Q 4) Write a code that finds a subsequence in a given string. if the subsequence is found, the function should return the index of the first character of the subsequence in the string. If the subsequence is not found, the function should return -1. The function should work for any string and subsequence. [Python String]\n",
        "#### example:\n",
        "\n",
        "    string = \"Hello World\"\n",
        "    subsequence = \"xyz\"\n",
        "    output = -1\n",
        "\n",
        "    string = \"Maze Runner\"\n",
        "    subsequence = \"zer\"\n",
        "    output = 2"
      ]
    },
    {
      "cell_type": "code",
      "execution_count": null,
      "metadata": {
        "id": "01Fy9viZGD1O"
      },
      "outputs": [],
      "source": [
        "def match(subsequence, str):\n",
        "    # code here\n",
        "    pass\n",
        "\n",
        "# Test Case 1: Subsequence not found\n",
        "string = \"Hello World\"\n",
        "subsequence = \"xyz\"\n",
        "print(\"Test Case 1:\")\n",
        "print(\"Output:\", match(subsequence, string))\n",
        "print(\"Expected Output: -1\")\n",
        "\n",
        "# Test Case 2: Subsequence found\n",
        "string = \"Maze Runner\"\n",
        "subsequence = \"zer\"\n",
        "print(\"\\nTest Case 2:\")\n",
        "print(\"Output:\", match(subsequence, string))\n",
        "print(\"Expected Output: 2\")\n",
        "\n",
        "# Test Case 3: Subsequence is empty\n",
        "string = \"Hello World\"\n",
        "subsequence = \"\"\n",
        "print(\"\\nTest Case 3:\")\n",
        "print(\"Output:\", match(subsequence, string))\n",
        "print(\"Expected Output: 0\")\n",
        "\n",
        "# Test Case 4: String is empty\n",
        "string = \"\"\n",
        "subsequence = \"abc\"\n",
        "print(\"\\nTest Case 4:\")\n",
        "print(\"Output:\", match(subsequence, string))\n",
        "print(\"Expected Output: -1\")\n",
        "\n",
        "# Test Case 5: Both string and subsequence are empty\n",
        "string = \"\"\n",
        "subsequence = \"\"\n",
        "print(\"\\nTest Case 5:\")\n",
        "print(\"Output:\", match(subsequence, string))\n",
        "print(\"Expected Output: 0\")"
      ]
    },
    {
      "attachments": {},
      "cell_type": "markdown",
      "metadata": {
        "id": "UXl8ZQf-GiNj"
      },
      "source": [
        "#### Q 5) Write a function that takes a string as input and returns a dictionary with the count of each character in the string. The function should work for any string. [Python Dictionary]"
      ]
    },
    {
      "cell_type": "code",
      "execution_count": null,
      "metadata": {
        "id": "WdbnioldGmbF"
      },
      "outputs": [],
      "source": [
        "def character_count(str):\n",
        "    # code here\n",
        "    return\n",
        "\n",
        "# Test Case 1: String with multiple occurrences of characters\n",
        "string = \"apple\"\n",
        "print(\"Test Case 1:\")\n",
        "print(\"Output:\", character_count(string))\n",
        "print(\"Expected Output: {'a': 1, 'p': 2, 'l': 1, 'e': 1}\")\n",
        "\n",
        "# Test Case 2: String with all unique characters\n",
        "string = \"hello\"\n",
        "print(\"\\nTest Case 2:\")\n",
        "print(\"Output:\", character_count(string))\n",
        "print(\"Expected Output: {'h': 1, 'e': 1, 'l': 2, 'o': 1}\")\n",
        "\n",
        "# Test Case 3: Empty string\n",
        "string = \"\"\n",
        "print(\"\\nTest Case 3:\")\n",
        "print(\"Output:\", character_count(string))\n",
        "print(\"Expected Output: {}\")\n"
      ]
    },
    {
      "attachments": {},
      "cell_type": "markdown",
      "metadata": {
        "id": "rHneiid5GtNu"
      },
      "source": [
        "#### Q6) Use the data given below to create a class team which has the following attributes and methods:\n",
        "\n",
        "a) Attributes: name, league, nation, players(list of class players)\n",
        "\n",
        "b) Methods: add_player, get_player\n",
        "\n",
        "c) constructor should take name, league, nation as input and initialize the attributes.\n",
        "<br><br><br>\n",
        "Now create a class player which has the following attributes and methods:\n",
        "<br><br><br>\n",
        "a) Attributes: name, age, goals\n",
        "\n",
        "b) Methods: get_age, get_name\n",
        "\n",
        "c) Constructor should take name, age, goals as input and initialize the attributes.\n",
        "<br><br><br>\n",
        "Finally create a dictionary of teams where key is a random number and value is an object of class team. Also add the players to the team (in players list) using the add_player method. [Python Class]\n",
        "<br><br><br>\n",
        "<style type=\"text/css\">\n",
        ".tg  {border-collapse:collapse;border-spacing:0;}\n",
        ".tg td{border-color:black;border-style:solid;border-width:1px;font-family:Arial, sans-serif;font-size:14px;\n",
        "  overflow:hidden;padding:10px 5px;word-break:normal;}\n",
        ".tg th{border-color:black;border-style:solid;border-width:1px;font-family:Arial, sans-serif;font-size:14px;\n",
        "  font-weight:normal;overflow:hidden;padding:10px 5px;word-break:normal;}\n",
        ".tg .tg-2b7s{text-align:right;vertical-align:bottom}\n",
        ".tg .tg-za14{border-color:inherit;text-align:left;vertical-align:bottom}\n",
        ".tg .tg-7zrl{text-align:left;vertical-align:bottom}\n",
        "</style>\n",
        "<table class=\"tg\">\n",
        "<thead>\n",
        "  <tr>\n",
        "    <th class=\"tg-7zrl\">Leagues</th>\n",
        "    <th class=\"tg-7zrl\">Nations</th>\n",
        "    <th class=\"tg-7zrl\">Teams</th>\n",
        "    <th class=\"tg-7zrl\"> Players</th>\n",
        "    <th class=\"tg-7zrl\">Goals</th>\n",
        "    <th class=\"tg-7zrl\">Age</th>\n",
        "  </tr>\n",
        "</thead>\n",
        "<tbody>\n",
        "  <tr>\n",
        "    <td class=\"tg-7zrl\">Premier League</td>\n",
        "    <td class=\"tg-7zrl\">England</td>\n",
        "    <td class=\"tg-7zrl\">Liverpool</td>\n",
        "    <td class=\"tg-7zrl\">Salah</td>\n",
        "    <td class=\"tg-2b7s\">22</td>\n",
        "    <td class=\"tg-2b7s\">27</td>\n",
        "  </tr>\n",
        "  <tr>\n",
        "    <td class=\"tg-7zrl\">La Liga</td>\n",
        "    <td class=\"tg-7zrl\">Spain</td>\n",
        "    <td class=\"tg-7zrl\">Barcelona</td>\n",
        "    <td class=\"tg-7zrl\">Messi</td>\n",
        "    <td class=\"tg-2b7s\">36</td>\n",
        "    <td class=\"tg-2b7s\">32</td>\n",
        "  </tr>\n",
        "  <tr>\n",
        "    <td class=\"tg-7zrl\">Serie A</td>\n",
        "    <td class=\"tg-7zrl\">Italy </td>\n",
        "    <td class=\"tg-7zrl\">Juventus</td>\n",
        "    <td class=\"tg-7zrl\">Ronaldo</td>\n",
        "    <td class=\"tg-2b7s\">50</td>\n",
        "    <td class=\"tg-2b7s\">34</td>\n",
        "  </tr>\n",
        "  <tr>\n",
        "    <td class=\"tg-7zrl\">Bundesliga</td>\n",
        "    <td class=\"tg-7zrl\">Germany</td>\n",
        "    <td class=\"tg-7zrl\">Bayern Munich</td>\n",
        "    <td class=\"tg-7zrl\">Lewandowski</td>\n",
        "    <td class=\"tg-2b7s\">34</td>\n",
        "    <td class=\"tg-2b7s\">31</td>\n",
        "  </tr>\n",
        "  <tr>\n",
        "    <td class=\"tg-7zrl\">Ligue 1</td>\n",
        "    <td class=\"tg-7zrl\">France</td>\n",
        "    <td class=\"tg-7zrl\">Paris Saint-German</td>\n",
        "    <td class=\"tg-7zrl\">Mbappe</td>\n",
        "    <td class=\"tg-2b7s\">18</td>\n",
        "    <td class=\"tg-2b7s\">20</td>\n",
        "  </tr>\n",
        "</tbody>\n",
        "</table>"
      ]
    },
    {
      "cell_type": "code",
      "execution_count": null,
      "metadata": {
        "id": "P3jSHx4AHSMr"
      },
      "outputs": [],
      "source": [
        "import random\n",
        "leagues_data = ['Premier League', 'La Liga', 'Serie A', 'Bundesliga', 'Ligue 1']\n",
        "nation_data = ['England', 'Spain', 'Italy', 'Germany', 'France']\n",
        "teams_data = ['Liverpool', 'Barcelona', 'Juventus', 'Bayern Munich', 'Paris Saint-Germain']\n",
        "players_data = ['Mohamed Salah', 'Lionel Messi', 'Cristiano Ronaldo', 'Robert Lewandowski', 'Kylian Mbappe']\n",
        "goals_data = [22, 36, 50, 34, 18]\n",
        "age_data = [27, 32, 34, 31, 20]\n",
        "\n",
        "# create a class team\n",
        "class team:\n",
        "    #write your code here\n",
        "    pass\n",
        "  \n",
        "\n",
        "# create a class player\n",
        "class player:\n",
        "    # write your code here\n",
        "    pass\n",
        "\n",
        "#create a dictionary of teams\n",
        "teams = {}"
      ]
    },
    {
      "attachments": {},
      "cell_type": "markdown",
      "metadata": {
        "id": "-RwwTyBBHXMd"
      },
      "source": [
        "#### Q7) Write a function that takes in a list of numbers and a target number and returns the two numbers (as a list) from the list that add up to the target number. The function should work for any list of numbers and any target number.[Python List]"
      ]
    },
    {
      "cell_type": "code",
      "execution_count": null,
      "metadata": {
        "id": "YJMIWlIvHoiY"
      },
      "outputs": [],
      "source": [
        "def target_sum(lst, target):\n",
        "    # your code here\n",
        "    pass\n",
        "\n",
        "# Test Case 1: Target sum exists\n",
        "lst = [2, 7, 11, 15]\n",
        "target = 9\n",
        "print(\"Test Case 1:\")\n",
        "print(\"Output:\", target_sum(lst, target))\n",
        "print(\"Expected Output: [2, 7]\")  # 2 + 7 = 9\n",
        "\n",
        "# Test Case 2: Target sum does not exist\n",
        "lst = [1, 4, 6, 8]\n",
        "target = 11\n",
        "print(\"\\nTest Case 2:\")\n",
        "print(\"Output:\", target_sum(lst, target))\n",
        "print(\"Expected Output: None\")  # No pair adds up to 11\n",
        "\n",
        "# Test Case 3: Negative numbers involved\n",
        "lst = [-1, 2, 3, 5, 8]\n",
        "target = 7\n",
        "print(\"\\nTest Case 3:\")\n",
        "print(\"Output:\", target_sum(lst, target))\n",
        "print(\"Expected Output: [-1, 8]\")  # -1 + 8 = 7"
      ]
    },
    {
      "attachments": {},
      "cell_type": "markdown",
      "metadata": {
        "id": "7cmDMubN6Uxa"
      },
      "source": [
        "# Numpy Questions\n",
        "\n",
        "#### Q8) Write a function that takes 2 parameters, an upper and lower limit, creates a 2-D array of 8 elements in total, and then alters it into a 1-D array."
      ]
    },
    {
      "cell_type": "code",
      "execution_count": null,
      "metadata": {
        "id": "LKv3-m9hsdMy"
      },
      "outputs": [],
      "source": [
        "import numpy as np\n",
        "\n",
        "def create(lower_limit, upper_limit):\n",
        "    return\n",
        "\n",
        "# Test Case\n",
        "print(\"Test Case 1:\")\n",
        "print(create(1, 15))\n",
        "print(\"Expected Output: [1, 3, 5, 7, 9, 11, 13, 15]\")"
      ]
    },
    {
      "attachments": {},
      "cell_type": "markdown",
      "metadata": {
        "id": "SYGU0l1ft41q"
      },
      "source": [
        "#### Q9) Write a function which takes that numpy array as input and returns the following\n",
        " \n",
        "\n",
        "1.   The index of the maximum value in the array\n",
        "2.   Maximum value in the array\n",
        "3.   Mean value of the array\n",
        "4.   Standard Deviation of the array"
      ]
    },
    {
      "cell_type": "code",
      "execution_count": null,
      "metadata": {
        "id": "Js2Dq7XPwfR9"
      },
      "outputs": [],
      "source": [
        "def analyze_array(arr):\n",
        "    # code here\n",
        "    return\n",
        "\n",
        "print(\"Test Case 1:\")\n",
        "arr1 = np.array([1, 3, 7, 9, 2, 5])\n",
        "print(analyze_array(arr1))\n",
        "# Expected Output: (3, 9, 4.5, 2.813657)\n",
        "\n",
        "print(\"\\nTest Case 2:\")\n",
        "arr2 = np.array([4, 4, 4, 4])\n",
        "print(analyze_array(arr2))\n",
        "# Expected Output: (0, 4, 4.0, 0.0)\n",
        "\n",
        "print(\"\\nTest Case 3:\")\n",
        "arr3 = np.array([-2, -5, 1, 0, -3])\n",
        "print(analyze_array(arr3))\n",
        "# Expected Output: (2, 1, -1.8, 2.1354)"
      ]
    },
    {
      "cell_type": "markdown",
      "metadata": {
        "id": "SSFegnqV1HQ-"
      },
      "source": [
        "#### Q10) Find the indices of the numpy array that are equal to 0"
      ]
    },
    {
      "cell_type": "code",
      "execution_count": null,
      "metadata": {
        "id": "8yHcKiun22st"
      },
      "outputs": [],
      "source": [
        "def find_zero_indices(np_arr):\n",
        "    # code here\n",
        "    return\n",
        "\n",
        "print(\"Test Case 1:\")\n",
        "np_arr_nine = np.array([10, 5, 0, 0, 50, 67, 99, 102, 0, 66666, 0])\n",
        "print(\"Output:\", find_zero_indices(np_arr_nine))\n",
        "print(\"Expected Output: [2 3 8 10]\")"
      ]
    },
    {
      "cell_type": "markdown",
      "metadata": {
        "id": "svquOd7VPdQM"
      },
      "source": [
        "<h1> Graphs and Visualization Questions </h1>"
      ]
    },
    {
      "attachments": {},
      "cell_type": "markdown",
      "metadata": {
        "id": "WIsbHhqLPy7c"
      },
      "source": [
        "#### Q11) Create a 2D plot using matplotlib that visualizes the intersection of two parametric curves represented by the following equations\n",
        "a) Equation 1\n",
        "\n",
        "    x = cos(t)\n",
        "\n",
        "    y = sin(t) * cos(t)\n",
        "\n",
        "b) Equation 2\n",
        "\n",
        "    x = 3 * cos(u)\n",
        "\n",
        "    y = 3 * sin(u) * cos(u)\n",
        "\n",
        "where t and u are parameters that vary between 0 and 2π\n",
        "\n",
        "The graph should have the following properties:\n",
        "1. The x and y axes should be labelled.\n",
        "2. The graph should have a title.\n",
        "3. The graph should have a legend.\n",
        "4. Both the curve should have different colors.\n",
        "5. Both the curve should have different line styles."
      ]
    },
    {
      "cell_type": "code",
      "execution_count": null,
      "metadata": {
        "id": "58hemeuOPyJ9"
      },
      "outputs": [],
      "source": [
        "import matplotlib.pyplot as plt\n",
        "import numpy as np\n",
        "\n",
        "# Generate parameter values\n",
        "t = np.linspace(0, 2 * np.pi, 1000)\n",
        "u = np.linspace(0, 2 * np.pi, 1000)\n",
        "\n",
        "# Compute x and y values for the first curve\n",
        "\n",
        "\n",
        "# Compute x and y values for the second curve\n",
        "\n",
        "\n",
        "# Create the plot"
      ]
    }
  ],
  "metadata": {
    "colab": {
      "provenance": []
    },
    "kernelspec": {
      "display_name": "Python 3",
      "language": "python",
      "name": "python3"
    },
    "language_info": {
      "codemirror_mode": {
        "name": "ipython",
        "version": 3
      },
      "file_extension": ".py",
      "mimetype": "text/x-python",
      "name": "python",
      "nbconvert_exporter": "python",
      "pygments_lexer": "ipython3",
      "version": "3.11.3"
    },
    "vscode": {
      "interpreter": {
        "hash": "aee8b7b246df8f9039afb4144a1f6fd8d2ca17a180786b69acc140d282b71a49"
      }
    }
  },
  "nbformat": 4,
  "nbformat_minor": 0
}
