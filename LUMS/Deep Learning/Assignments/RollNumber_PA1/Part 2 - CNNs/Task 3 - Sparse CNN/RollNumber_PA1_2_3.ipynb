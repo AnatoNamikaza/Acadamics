{
 "cells": [
  {
   "cell_type": "markdown",
   "metadata": {},
   "source": [
    "# **<span style=\"color: #87CEEB;\"> CS437/CS5317/EE414/EE513 Deep Learning Programming Assignment 1</span>**\n",
    "\n",
    "# <span style=\"color: #9370DB;\">**Submission Guidelines**</span>\n",
    "\n",
    "- <span style=\"color: #9370DB;\">Please rename the file to `<RollNumber>_PA1_2_3`.</span>\n",
    "- <span style=\"color: #9370DB;\">Please also submit a **.py** file of every Notebook. You can do this by exporting your **ipynb** to a Python script.</span>\n",
    "- <span style=\"color: #9370DB;\">Please submit a zipped folder of both your Jupyter Notebooks and Python script files.</span>\n",
    "\n",
    "\n"
   ]
  },
  {
   "cell_type": "markdown",
   "metadata": {},
   "source": [
    "### Name:\n",
    "### Roll Number:"
   ]
  },
  {
   "cell_type": "code",
   "execution_count": 34,
   "metadata": {},
   "outputs": [],
   "source": [
    "import torch\n",
    "import pandas as pd\n",
    "import numpy as np\n",
    "import matplotlib.pyplot as plt\n",
    "\n",
    "from torch.utils.data import Dataset, DataLoader\n",
    "from torchvision import transforms\n",
    "from torch.utils.data import DataLoader, random_split\n",
    "\n",
    "import glob\n",
    "import cv2\n",
    "import os\n",
    "\n",
    "from torchsummary import summary\n",
    "from tqdm.notebook import tqdm\n"
   ]
  },
  {
   "cell_type": "markdown",
   "metadata": {},
   "source": [
    "<h1><b> Part 2 Task 3 : Sparse CNN Layers<span style=\"color: #9370DB;\"> (50 Points Total)</span></b></h1> \n",
    "\n",
    "In this section, you will classify CIFAR-10 ising sparse CNN. You will replace the standard CNN layers with sparse CNN layers. Sparse CNN layers are useful for reducing the number of parameters in the model, which can lead to faster inference times and lower memory usage. It would be helpful to have a look of this article to explor more about sparse CNN: https://www.cv-foundation.org/openaccess/content_cvpr_2015/papers/Liu_Sparse_Convolutional_Neural_2015_CVPR_paper.pdf\n",
    "\n",
    "You are required to implement a sparse CNN layer by applying pruning to the weights of the convolutional layers. PyTorch provides utilities for pruning in the `torch.nn.utils.prune` module.\n",
    "\n",
    "## Task:\n",
    "1. Implement a sparse CNN layer by applying pruning to the weights of the convolutional layers.\n",
    "3. Train the model with the sparse CNN layers and compare its performance with the original model."
   ]
  },
  {
   "cell_type": "markdown",
   "metadata": {},
   "source": [
    "Here you need to implement Sparse CNN Layer using PyTorch's pruning utilities."
   ]
  },
  {
   "cell_type": "code",
   "execution_count": null,
   "metadata": {},
   "outputs": [],
   "source": [
    "import torch.nn.utils.prune as prune\n",
    "\n",
    "class SparseConv2d(nn.Module):\n",
    "    def __init__(self, in_channels, out_channels, kernel_size, stride=1, padding=0, pruning_amount=0.5):\n",
    "        super(SparseConv2d, self).__init__()\n",
    "        # ================= Your Code Here ===============\n",
    "        raise NotImplementedError\n",
    "        # =================================================\n",
    "\n",
    "\n",
    "    def forward(self, x):\n",
    "        # ================= Your Code Here ===============\n",
    "        raise NotImplementedError\n",
    "        # =================================================\n",
    "\n"
   ]
  },
  {
   "cell_type": "code",
   "execution_count": null,
   "metadata": {},
   "outputs": [],
   "source": [
    "import torch\n",
    "import torch.nn as nn\n",
    "\n",
    "class SparseModel(nn.Module):\n",
    "    def __init__(self):\n",
    "        super().__init__()\n",
    "        # ================= Your Code Here ===============\n",
    "        raise NotImplementedError\n",
    "        # =================================================\n",
    "\n",
    "        \n",
    "    def forward(self, x):\n",
    "        # ================= Your Code Here ===============\n",
    "        raise NotImplementedError\n",
    "        # ================================================\n",
    "    \n",
    "        return x"
   ]
  },
  {
   "cell_type": "markdown",
   "metadata": {},
   "source": [
    "Download CIFAR-10, use the SparseConv2d layer instead of the standard nn.Conv2d layer."
   ]
  },
  {
   "cell_type": "code",
   "execution_count": null,
   "metadata": {},
   "outputs": [],
   "source": [
    "# Load CIFAR-10 dataset \n",
    "# Define transformation for CIFAR-10\n",
    "\n",
    "# ============ YOUR CODE HERE ============\n",
    "raise NotImplementedError\n",
    "# ========================================\n",
    "    \n",
    "trainset = .........\n",
    "trainloader = .............\n",
    "\n",
    "testset = ..........\n",
    "testloader = .........."
   ]
  },
  {
   "cell_type": "markdown",
   "metadata": {},
   "source": [
    "# Train your Sparse CNN\n",
    "In this section, you are required to train your Sparse CNN on the Pokemon Dataset. You may change the `criterion`, `optimizer`, `lr` and `NUM_EPOCHS`.\n",
    "You have to implement the model training for each epoch."
   ]
  },
  {
   "cell_type": "code",
   "execution_count": null,
   "metadata": {},
   "outputs": [],
   "source": [
    "sparse_model = SparseModel()\n",
    "criterion = nn.CrossEntropyLoss()\n",
    "optimizer = torch.optim.Adam(model.parameters(), lr=0.001)\n",
    "device = torch.device(\"cuda\" if torch.cuda.is_available() else \"cpu\")\n",
    "sparse_model.to(device)\n",
    "\n",
    "summary(sparse_model, input_size=(3, 64, 64))\n"
   ]
  },
  {
   "cell_type": "code",
   "execution_count": null,
   "metadata": {},
   "outputs": [],
   "source": [
    "# Set the model to training mode\n",
    "sparse_model.train()\n",
    "NUM_EPOCHS = 20\n",
    "\n",
    "loss_list = []\n",
    "accuracy_list = []\n",
    "# Training loop\n",
    "for epoch in tqdm(range(NUM_EPOCHS)):\n",
    "    \n",
    "    # ============ YOUR CODE HERE ============\n",
    "    raise NotImplementedError\n",
    "    # ========================================"
   ]
  },
  {
   "cell_type": "markdown",
   "metadata": {},
   "source": [
    "# Evaluate your Sparse CNN\n",
    "In this section, you will set your Sparse model in evaluation mode and evaluate it on your test data. \n",
    "You have to implement the evaluation loop and report the test accuracy."
   ]
  },
  {
   "cell_type": "code",
   "execution_count": null,
   "metadata": {},
   "outputs": [],
   "source": [
    " # Evaluate the sparse model\n",
    "sparse_model.eval()\n",
    "correct = 0\n",
    "total = 0\n",
    "with torch.no_grad():       \n",
    "    # ================= Your Code Here ===============\n",
    "    raise NotImplementedError\n",
    "    # =================================================\n",
    "\n",
    "print(f\"Test Accuracy of Sparse Model: {100 * correct / total:.2f}%\")"
   ]
  },
  {
   "cell_type": "markdown",
   "metadata": {},
   "source": [
    "Evaluate Spare model performance and mofidy the code where it necessary"
   ]
  },
  {
   "cell_type": "code",
   "execution_count": null,
   "metadata": {},
   "outputs": [],
   "source": [
    "# Set the model to evaluation mode\n",
    "sparse_model.eval()\n",
    "\n",
    "# Create subplots\n",
    "fig, axes = plt.subplots(2, 2, figsize=(12, 6))\n",
    "\n",
    "# Iterate over the first 4 images in the test dataset\n",
    "for i, (image, label) in enumerate(list(testloader)[:4]):\n",
    "    # Move the image to the device\n",
    "    image = image.to(device)\n",
    "\n",
    "    # Forward pass\n",
    "    output = sparse_model(image.unsqueeze(0))\n",
    "\n",
    "    # Calculate the predicted label\n",
    "    _, predicted_label = torch.max(output, 1)\n",
    "\n",
    "    # Convert the image tensor to numpy array\n",
    "    image = image.permute(1, 2, 0).cpu().numpy()\n",
    "\n",
    "    # Multiply image by std and add mean\n",
    "    image = image * [0.229, 0.224, 0.225] + [0.485, 0.456, 0.406]\n",
    "    image *= 255\n",
    "    image = image.astype(np.uint8)\n",
    "    image = cv2.cvtColor(image, cv2.COLOR_RGB2BGR)\n",
    "\n",
    "    # Plot the image and predicted label\n",
    "    ax = axes[i // 2, i % 2]\n",
    "    ax.imshow(image)\n",
    "    ax.set_title(f\"Predicted: {predicted_label.item()} - Actual: {label} - {label_name}\")\n",
    "    ax.axis(\"off\")\n",
    "\n",
    "# Adjust spacing between subplots\n",
    "plt.tight_layout()\n",
    "\n",
    "# Show the plot\n",
    "plt.show()"
   ]
  },
  {
   "cell_type": "markdown",
   "metadata": {},
   "source": [
    "# Reflection Questions\n",
    "\n",
    "1. What is the trade-off between model sparsity and accuracy?\n",
    "2. How does pruning affect the training time and inference speed?\n"
   ]
  }
 ],
 "metadata": {
  "kernelspec": {
   "display_name": "Python 3",
   "language": "python",
   "name": "python3"
  },
  "language_info": {
   "codemirror_mode": {
    "name": "ipython",
    "version": 3
   },
   "file_extension": ".py",
   "mimetype": "text/x-python",
   "name": "python",
   "nbconvert_exporter": "python",
   "pygments_lexer": "ipython3",
   "version": "3.8.9"
  }
 },
 "nbformat": 4,
 "nbformat_minor": 2
}
